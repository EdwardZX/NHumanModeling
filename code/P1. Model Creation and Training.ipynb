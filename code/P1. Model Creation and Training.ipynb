{
 "cells": [
  {
   "cell_type": "code",
   "execution_count": 1,
   "metadata": {},
   "outputs": [],
   "source": [
    "%load_ext memory_profiler"
   ]
  },
  {
   "cell_type": "code",
   "execution_count": 2,
   "metadata": {},
   "outputs": [
    {
     "name": "stdout",
     "output_type": "stream",
     "text": [
      "peak memory: 39.58 MiB, increment: 0.07 MiB\n"
     ]
    }
   ],
   "source": [
    "%memit"
   ]
  },
  {
   "cell_type": "code",
   "execution_count": 4,
   "metadata": {},
   "outputs": [
    {
     "name": "stdout",
     "output_type": "stream",
     "text": [
      "The autoreload extension is already loaded. To reload it, use:\n",
      "  %reload_ext autoreload\n",
      "env: CUDA_VISIBLE_DEVICES=1\n"
     ]
    },
    {
     "data": {
      "text/plain": [
       "{u'catkin_ws_dir': u'/Users/borisi/catkin_ws',\n",
       " u'data_dir': u'data',\n",
       " u'feature_extraction_dict': u'slim',\n",
       " u'julia_pkg_dir': u'/Users/borisi/.julia/v0.6',\n",
       " u'models_dir': u'models'}"
      ]
     },
     "execution_count": 4,
     "metadata": {},
     "output_type": "execute_result"
    }
   ],
   "source": [
    "%load_ext autoreload\n",
    "%autoreload 2\n",
    " \n",
    "%matplotlib inline\n",
    "# Set below to 0 or 1 for GPU\n",
    "%env CUDA_VISIBLE_DEVICES=1\n",
    "from __future__ import absolute_import, division, print_function\n",
    "import json\n",
    "import os\n",
    "if os.path.isfile(\"config.json\"):\n",
    "    with open(\"config.json\", \"r\") as f:\n",
    "        config = json.load(f)\n",
    "else:\n",
    "    print(\"Please run setup.py in this directory before running any .ipynb's.\")\n",
    "\n",
    "import matplotlib.pyplot as plt\n",
    "import pandas as pd\n",
    "import numpy as np\n",
    "import glob\n",
    "import tensorflow as tf\n",
    "import time\n",
    "import shutil\n",
    "import pickle\n",
    "from collections import OrderedDict, defaultdict\n",
    "\n",
    "from utils.bags import *\n",
    "from utils.learning import *\n",
    "from multimodal_generative_model import *\n",
    "from st_graph import *\n",
    "\n",
    "config"
   ]
  },
  {
   "cell_type": "code",
   "execution_count": 5,
   "metadata": {},
   "outputs": [
    {
     "data": {
      "text/plain": [
       "u'models/GPU1_checkpoints'"
      ]
     },
     "execution_count": 5,
     "metadata": {},
     "output_type": "execute_result"
    }
   ],
   "source": [
    "cvd = %env CUDA_VISIBLE_DEVICES\n",
    "model_dir = os.path.join(config[\"models_dir\"], (\"GPU\" + cvd if cvd else \"CPU\") + \"_checkpoints\")\n",
    "# shutil.rmtree(model_dir, ignore_errors=True)\n",
    "\n",
    "sc = tf.ConfigProto(device_count={'GPU': 1}, allow_soft_placement=True, log_device_placement=False)\n",
    "rc = tf.estimator.RunConfig().replace(session_config=sc, model_dir=model_dir,\n",
    "                                      save_summary_steps=100, save_checkpoints_steps=5000,\n",
    "                                      keep_checkpoint_max=5000, tf_random_seed=None)\n",
    "rc.environment = None    # required due to a bug in tf.contrib.learn.Experiment.train_and_evaluate\n",
    "model_dir"
   ]
  },
  {
   "cell_type": "code",
   "execution_count": 6,
   "metadata": {
    "scrolled": true
   },
   "outputs": [
    {
     "data": {
      "text/plain": [
       "{'GMM_components': 16,\n",
       " 'K': 5,\n",
       " 'MLP_dropout_keep_prob': 0.9,\n",
       " 'MVG_latent_dim': 32,\n",
       " 'N': 2,\n",
       " 'alpha': 1,\n",
       " 'batch_size': 16,\n",
       " 'dec_GMM_proj_MLP_dims': None,\n",
       " 'dec_rnn_dim': [128],\n",
       " 'dec_sample_model_prob_crossover': 20000,\n",
       " 'dec_sample_model_prob_divisor': 6,\n",
       " 'dec_sample_model_prob_final': 0.0,\n",
       " 'dec_sample_model_prob_start': 0.0,\n",
       " 'enc_rnn_dim_edge': [8],\n",
       " 'enc_rnn_dim_edge_influence': [8],\n",
       " 'enc_rnn_dim_future': [32],\n",
       " 'enc_rnn_dim_history': [32],\n",
       " 'enc_rnn_dim_multiple_inputs': [8],\n",
       " 'fuzz_factor': 0.05,\n",
       " 'grad_clip': 1.0,\n",
       " 'k': 3,\n",
       " 'k_eval': 50,\n",
       " 'kl_crossover': 8000,\n",
       " 'kl_decay_rate': 0.99995,\n",
       " 'kl_exact': True,\n",
       " 'kl_min': 0.07,\n",
       " 'kl_sigmoid_divisor': 6,\n",
       " 'kl_weight': 1.0,\n",
       " 'kl_weight_start': 0.0001,\n",
       " 'latent_type': 'discrete',\n",
       " 'learning_decay_rate': 0.9999,\n",
       " 'learning_rate': 0.001,\n",
       " 'log_p_yt_xz_max': 50,\n",
       " 'log_sigma_max': 10,\n",
       " 'log_sigma_min': -10,\n",
       " 'min_learning_rate': 1e-05,\n",
       " 'minimum_history_length': 5,\n",
       " 'optimizer': tensorflow.python.training.adam.AdamOptimizer,\n",
       " 'optimizer_kwargs': {},\n",
       " 'p_z_x_MLP_dims': [16],\n",
       " 'prediction_horizon': 15,\n",
       " 'q_z_xy_MLP_dims': None,\n",
       " 'rnn_cell': tensorflow.contrib.rnn.python.ops.rnn_cell.LayerNormBasicLSTMCell,\n",
       " 'rnn_cell_kwargs': {'dropout_keep_prob': 0.75, 'layer_norm': False},\n",
       " 'rnn_io_dropout_keep_prob': 1.0,\n",
       " 'sample_model_during_dec': True,\n",
       " 'steps_per_log': 10,\n",
       " 'tau_decay_rate': 0.9999,\n",
       " 'tau_final': 0.001,\n",
       " 'tau_init': 2.0,\n",
       " 'use_iwae': False,\n",
       " 'use_z_logit_clipping': False,\n",
       " 'z_logit_clip_crossover': 8000,\n",
       " 'z_logit_clip_divisor': 6,\n",
       " 'z_logit_clip_final': 3.0,\n",
       " 'z_logit_clip_start': 0.05}"
      ]
     },
     "execution_count": 6,
     "metadata": {},
     "output_type": "execute_result"
    }
   ],
   "source": [
    "# Edit model hyperparameters if desired, e.g.:\n",
    "# hps.N = 2\n",
    "# hps.K = 5\n",
    "hps.values()"
   ]
  },
  {
   "cell_type": "code",
   "execution_count": 7,
   "metadata": {},
   "outputs": [
    {
     "name": "stdout",
     "output_type": "stream",
     "text": [
      "peak memory: 193.60 MiB, increment: 0.00 MiB\n"
     ]
    }
   ],
   "source": [
    "%memit"
   ]
  },
  {
   "cell_type": "markdown",
   "metadata": {},
   "source": [
    "# Data Loading"
   ]
  },
  {
   "cell_type": "code",
   "execution_count": 8,
   "metadata": {},
   "outputs": [],
   "source": [
    "extract_dict = feature_extraction_dicts[config[\"feature_extraction_dict\"]]\n",
    "array_name = \"trajectories_\" + config[\"feature_extraction_dict\"]\n",
    "base_filename = os.path.join(config[\"data_dir\"], array_name)\n",
    "\n",
    "all_bags = pd.read_pickle(base_filename + \".pkl\")\n",
    "train_bags, eval_bags, test_bags = split_bag_df(all_bags, train_eval_test_split = [.8, .2, 0.], seed=123)\n",
    "\n",
    "pos_dict = pos_dict_from_dataframe(train_bags, cols={'car1': ('x1', 'y1'), 'car2': ('x2', 'y2')}, \n",
    "                                   node_names_and_types={'car1': 'robot', 'car2': 'human'})\n",
    "\n",
    "robot_node = STGNode('car1', 'robot')\n",
    "STG = SpatioTemporalGraphCVAE(pos_dict=pos_dict, robot_node=robot_node)\n",
    "\n",
    "train_data_dict = prepare_data(train_bags, extract_dict=extract_dict)\n",
    "save_as_npz_and_hdf5(base_filename + \"_train\", train_data_dict[\"input_dict\"])\n",
    "human_node = STGNode('car2', 'human')\n",
    "train_data_dict[\"labels\"] = {convert_to_label_node(human_node): train_data_dict[\"labels\"]}\n",
    "train_data_dict[\"input_dict\"][human_node] = train_data_dict[\"input_dict\"][\"car2\"]\n",
    "train_data_dict[\"input_dict\"][robot_node] = train_data_dict[\"input_dict\"][\"car1\"]\n",
    "\n",
    "hps.add_hparam(\"nodes_standardization\", {robot_node: {\"mean\": train_data_dict[\"cars_mean\"],\n",
    "                                        \"std\": train_data_dict[\"cars_std\"]},\n",
    "                                         human_node: {\"mean\": train_data_dict[\"human_mean\"],\n",
    "                                        \"std\": train_data_dict[\"human_std\"]}})\n",
    "hps.add_hparam(\"extras_standardization\", {\"mean\": train_data_dict[\"extras_mean\"],\n",
    "                                          \"std\": train_data_dict[\"extras_std\"]})\n",
    "hps.add_hparam(\"labels_standardization\", {convert_to_label_node(human_node): {\"mean\": train_data_dict[\"labels_mean\"],\n",
    "                                          \"std\": train_data_dict[\"labels_std\"]}})\n",
    "\n",
    "hps.add_hparam(\"pred_indices\", train_data_dict[\"pred_indices\"])\n",
    "eval_data_dict = prepare_data(eval_bags, extract_dict=extract_dict)\n",
    "save_as_npz_and_hdf5(base_filename + \"_eval\", eval_data_dict[\"input_dict\"])\n",
    "\n",
    "eval_data_dict[\"labels\"] = {convert_to_label_node(human_node): eval_data_dict[\"labels\"]}\n",
    "eval_data_dict[\"input_dict\"][human_node] = eval_data_dict[\"input_dict\"][\"car2\"]\n",
    "eval_data_dict[\"input_dict\"][robot_node] = eval_data_dict[\"input_dict\"][\"car1\"]\n",
    "\n",
    "train_input_function = tf.estimator.inputs.numpy_input_fn(train_data_dict[\"input_dict\"],\n",
    "                                                          y = train_data_dict[\"labels\"],\n",
    "                                                          batch_size = hps.batch_size,\n",
    "                                                          num_epochs = None,\n",
    "                                                          shuffle = True)\n",
    "\n",
    "eval_input_function = tf.estimator.inputs.numpy_input_fn(eval_data_dict[\"input_dict\"],\n",
    "                                                         y = eval_data_dict[\"labels\"],\n",
    "                                                         batch_size = 4,\n",
    "                                                         num_epochs = 1,\n",
    "                                                         shuffle = False)"
   ]
  },
  {
   "cell_type": "code",
   "execution_count": 9,
   "metadata": {},
   "outputs": [
    {
     "data": {
      "text/plain": [
       "{'GMM_components': 16,\n",
       " 'K': 5,\n",
       " 'MLP_dropout_keep_prob': 0.9,\n",
       " 'MVG_latent_dim': 32,\n",
       " 'N': 2,\n",
       " 'alpha': 1,\n",
       " 'batch_size': 16,\n",
       " 'dec_GMM_proj_MLP_dims': None,\n",
       " 'dec_rnn_dim': [128],\n",
       " 'dec_sample_model_prob_crossover': 20000,\n",
       " 'dec_sample_model_prob_divisor': 6,\n",
       " 'dec_sample_model_prob_final': 0.0,\n",
       " 'dec_sample_model_prob_start': 0.0,\n",
       " 'enc_rnn_dim_edge': [8],\n",
       " 'enc_rnn_dim_edge_influence': [8],\n",
       " 'enc_rnn_dim_future': [32],\n",
       " 'enc_rnn_dim_history': [32],\n",
       " 'enc_rnn_dim_multiple_inputs': [8],\n",
       " 'extras_standardization': {'mean': array([], dtype=float32),\n",
       "  'std': array([], dtype=float32)},\n",
       " 'fuzz_factor': 0.05,\n",
       " 'grad_clip': 1.0,\n",
       " 'k': 3,\n",
       " 'k_eval': 50,\n",
       " 'kl_crossover': 8000,\n",
       " 'kl_decay_rate': 0.99995,\n",
       " 'kl_exact': True,\n",
       " 'kl_min': 0.07,\n",
       " 'kl_sigmoid_divisor': 6,\n",
       " 'kl_weight': 1.0,\n",
       " 'kl_weight_start': 0.0001,\n",
       " 'labels_standardization': {human/car2_label: {'mean': array([ 0.5703405 , -0.09813011], dtype=float32),\n",
       "   'std': array([2.162645 , 1.2083925], dtype=float32)}},\n",
       " 'latent_type': 'discrete',\n",
       " 'learning_decay_rate': 0.9999,\n",
       " 'learning_rate': 0.001,\n",
       " 'log_p_yt_xz_max': 50,\n",
       " 'log_sigma_max': 10,\n",
       " 'log_sigma_min': -10,\n",
       " 'min_learning_rate': 1e-05,\n",
       " 'minimum_history_length': 5,\n",
       " 'nodes_standardization': {robot/car1: {'mean': array([-7.0615303e+01, -3.9459362e+00,  3.0538174e+01, -1.5523847e-02,\n",
       "           5.7034051e-01, -9.8130107e-02], dtype=float32),\n",
       "   'std': array([37.6392   ,  1.6838564,  3.4298809,  1.2170174,  2.162645 ,\n",
       "           1.2083925], dtype=float32)},\n",
       "  human/car2: {'mean': array([-7.0615303e+01, -3.9459362e+00,  3.0538174e+01, -1.5523847e-02,\n",
       "           5.7034051e-01, -9.8130107e-02], dtype=float32),\n",
       "   'std': array([37.6392   ,  1.6838564,  3.4298809,  1.2170174,  2.162645 ,\n",
       "           1.2083925], dtype=float32)}},\n",
       " 'optimizer': tensorflow.python.training.adam.AdamOptimizer,\n",
       " 'optimizer_kwargs': {},\n",
       " 'p_z_x_MLP_dims': [16],\n",
       " 'pred_indices': [4, 5],\n",
       " 'prediction_horizon': 15,\n",
       " 'q_z_xy_MLP_dims': None,\n",
       " 'rnn_cell': tensorflow.contrib.rnn.python.ops.rnn_cell.LayerNormBasicLSTMCell,\n",
       " 'rnn_cell_kwargs': {'dropout_keep_prob': 0.75, 'layer_norm': False},\n",
       " 'rnn_io_dropout_keep_prob': 1.0,\n",
       " 'sample_model_during_dec': True,\n",
       " 'steps_per_log': 10,\n",
       " 'tau_decay_rate': 0.9999,\n",
       " 'tau_final': 0.001,\n",
       " 'tau_init': 2.0,\n",
       " 'use_iwae': False,\n",
       " 'use_z_logit_clipping': False,\n",
       " 'z_logit_clip_crossover': 8000,\n",
       " 'z_logit_clip_divisor': 6,\n",
       " 'z_logit_clip_final': 3.0,\n",
       " 'z_logit_clip_start': 0.05}"
      ]
     },
     "execution_count": 9,
     "metadata": {},
     "output_type": "execute_result"
    }
   ],
   "source": [
    "hps.values()"
   ]
  },
  {
   "cell_type": "code",
   "execution_count": 10,
   "metadata": {},
   "outputs": [
    {
     "name": "stdout",
     "output_type": "stream",
     "text": [
      "INFO:tensorflow:Using config: {'_save_checkpoints_secs': None, '_session_config': device_count {\n",
      "  key: \"GPU\"\n",
      "  value: 1\n",
      "}\n",
      "allow_soft_placement: true\n",
      ", '_keep_checkpoint_max': 5000, '_task_type': 'worker', '_is_chief': True, '_cluster_spec': <tensorflow.python.training.server_lib.ClusterSpec object at 0x122852090>, '_save_checkpoints_steps': 5000, '_keep_checkpoint_every_n_hours': 10000, '_service': None, '_num_ps_replicas': 0, '_tf_random_seed': None, '_master': '', 'environment': None, '_num_worker_replicas': 1, '_task_id': 0, '_log_step_count_steps': 100, '_model_dir': u'models/GPU1_checkpoints', '_save_summary_steps': 100}\n"
     ]
    }
   ],
   "source": [
    "laneswap_model = STG\n",
    "nn = tf.estimator.Estimator(laneswap_model.model_fn, params=hps, config=rc, model_dir=model_dir)\n",
    "experiment = tf.contrib.learn.Experiment(nn, train_input_function, eval_input_function,\n",
    "                                         train_steps=10000, min_eval_frequency=1, eval_steps=None)"
   ]
  },
  {
   "cell_type": "code",
   "execution_count": 11,
   "metadata": {},
   "outputs": [
    {
     "name": "stdout",
     "output_type": "stream",
     "text": [
      "peak memory: 250.71 MiB, increment: 0.00 MiB\n"
     ]
    }
   ],
   "source": [
    "%memit"
   ]
  },
  {
   "cell_type": "markdown",
   "metadata": {},
   "source": [
    "# Training"
   ]
  },
  {
   "cell_type": "code",
   "execution_count": 12,
   "metadata": {
    "scrolled": true
   },
   "outputs": [
    {
     "name": "stdout",
     "output_type": "stream",
     "text": [
      "WARNING:tensorflow:From /Users/borisi/anaconda2/envs/proactive/lib/python2.7/site-packages/tensorflow/contrib/learn/python/learn/monitors.py:267: __init__ (from tensorflow.contrib.learn.python.learn.monitors) is deprecated and will be removed after 2016-12-05.\n",
      "Instructions for updating:\n",
      "Monitors are deprecated. Please use tf.train.SessionRunHook.\n",
      "WARNING:tensorflow:From utils/learning.py:359: calling reduce_mean (from tensorflow.python.ops.math_ops) with keep_dims is deprecated and will be removed in a future version.\n",
      "Instructions for updating:\n",
      "keep_dims is deprecated, use keepdims instead\n",
      "WARNING:tensorflow:From utils/learning.py:163: calling reduce_logsumexp (from tensorflow.python.ops.math_ops) with keep_dims is deprecated and will be removed in a future version.\n",
      "Instructions for updating:\n",
      "keep_dims is deprecated, use keepdims instead\n",
      "WARNING:tensorflow:From /Users/borisi/anaconda2/envs/proactive/lib/python2.7/site-packages/tensorflow/python/ops/nn_grad.py:249: calling reduce_sum (from tensorflow.python.ops.math_ops) with keep_dims is deprecated and will be removed in a future version.\n",
      "Instructions for updating:\n",
      "keep_dims is deprecated, use keepdims instead\n",
      "INFO:tensorflow:Create CheckpointSaverHook.\n",
      "INFO:tensorflow:Saving checkpoints for 1 into models/GPU1_checkpoints/model.ckpt.\n",
      "WARNING:tensorflow:From /Users/borisi/anaconda2/envs/proactive/lib/python2.7/site-packages/tensorflow/contrib/distributions/python/ops/onehot_categorical.py:201: softmax_cross_entropy_with_logits (from tensorflow.python.ops.nn_ops) is deprecated and will be removed in a future version.\n",
      "Instructions for updating:\n",
      "\n",
      "Future major versions of TensorFlow will allow gradients to flow\n",
      "into the labels input on backprop by default.\n",
      "\n",
      "See tf.nn.softmax_cross_entropy_with_logits_v2.\n",
      "\n",
      "INFO:tensorflow:Starting evaluation at 2018-03-28-04:20:05\n",
      "INFO:tensorflow:Restoring parameters from models/GPU1_checkpoints/model.ckpt-1\n"
     ]
    },
    {
     "ename": "KeyboardInterrupt",
     "evalue": "",
     "output_type": "error",
     "traceback": [
      "\u001b[0;31m---------------------------------------------------------------------------\u001b[0m",
      "\u001b[0;31mKeyboardInterrupt\u001b[0m                         Traceback (most recent call last)",
      "\u001b[0;32m<ipython-input-12-f1b3f22bbb97>\u001b[0m in \u001b[0;36m<module>\u001b[0;34m()\u001b[0m\n\u001b[0;32m----> 1\u001b[0;31m \u001b[0mexperiment\u001b[0m\u001b[0;34m.\u001b[0m\u001b[0mtrain_and_evaluate\u001b[0m\u001b[0;34m(\u001b[0m\u001b[0;34m)\u001b[0m\u001b[0;34m\u001b[0m\u001b[0m\n\u001b[0m",
      "\u001b[0;32m/Users/borisi/anaconda2/envs/proactive/lib/python2.7/site-packages/tensorflow/contrib/learn/python/learn/experiment.pyc\u001b[0m in \u001b[0;36mtrain_and_evaluate\u001b[0;34m(self)\u001b[0m\n\u001b[1;32m    659\u001b[0m                   hooks=self._eval_hooks)\n\u001b[1;32m    660\u001b[0m           ]\n\u001b[0;32m--> 661\u001b[0;31m       \u001b[0mself\u001b[0m\u001b[0;34m.\u001b[0m\u001b[0mtrain\u001b[0m\u001b[0;34m(\u001b[0m\u001b[0mdelay_secs\u001b[0m\u001b[0;34m=\u001b[0m\u001b[0;36m0\u001b[0m\u001b[0;34m)\u001b[0m\u001b[0;34m\u001b[0m\u001b[0m\n\u001b[0m\u001b[1;32m    662\u001b[0m \u001b[0;34m\u001b[0m\u001b[0m\n\u001b[1;32m    663\u001b[0m     \u001b[0;31m# If the checkpoint_and_export flag and appropriate estimator configuration\u001b[0m\u001b[0;34m\u001b[0m\u001b[0;34m\u001b[0m\u001b[0m\n",
      "\u001b[0;32m/Users/borisi/anaconda2/envs/proactive/lib/python2.7/site-packages/tensorflow/contrib/learn/python/learn/experiment.pyc\u001b[0m in \u001b[0;36mtrain\u001b[0;34m(self, delay_secs)\u001b[0m\n\u001b[1;32m    388\u001b[0m         \u001b[0mmax_steps\u001b[0m\u001b[0;34m=\u001b[0m\u001b[0mself\u001b[0m\u001b[0;34m.\u001b[0m\u001b[0m_train_steps\u001b[0m\u001b[0;34m,\u001b[0m\u001b[0;34m\u001b[0m\u001b[0m\n\u001b[1;32m    389\u001b[0m         \u001b[0mhooks\u001b[0m\u001b[0;34m=\u001b[0m\u001b[0mself\u001b[0m\u001b[0;34m.\u001b[0m\u001b[0m_train_monitors\u001b[0m \u001b[0;34m+\u001b[0m \u001b[0mextra_hooks\u001b[0m\u001b[0;34m,\u001b[0m\u001b[0;34m\u001b[0m\u001b[0m\n\u001b[0;32m--> 390\u001b[0;31m         saving_listeners=self._saving_listeners)\n\u001b[0m\u001b[1;32m    391\u001b[0m \u001b[0;34m\u001b[0m\u001b[0m\n\u001b[1;32m    392\u001b[0m   \u001b[0;32mdef\u001b[0m \u001b[0mevaluate\u001b[0m\u001b[0;34m(\u001b[0m\u001b[0mself\u001b[0m\u001b[0;34m,\u001b[0m \u001b[0mdelay_secs\u001b[0m\u001b[0;34m=\u001b[0m\u001b[0mNone\u001b[0m\u001b[0;34m,\u001b[0m \u001b[0mname\u001b[0m\u001b[0;34m=\u001b[0m\u001b[0mNone\u001b[0m\u001b[0;34m)\u001b[0m\u001b[0;34m:\u001b[0m\u001b[0;34m\u001b[0m\u001b[0m\n",
      "\u001b[0;32m/Users/borisi/anaconda2/envs/proactive/lib/python2.7/site-packages/tensorflow/contrib/learn/python/learn/experiment.pyc\u001b[0m in \u001b[0;36m_call_train\u001b[0;34m(self, _sentinel, input_fn, steps, hooks, max_steps, saving_listeners)\u001b[0m\n\u001b[1;32m    866\u001b[0m           \u001b[0mmax_steps\u001b[0m\u001b[0;34m=\u001b[0m\u001b[0mmax_steps\u001b[0m\u001b[0;34m,\u001b[0m\u001b[0;34m\u001b[0m\u001b[0m\n\u001b[1;32m    867\u001b[0m           \u001b[0mhooks\u001b[0m\u001b[0;34m=\u001b[0m\u001b[0mhooks\u001b[0m\u001b[0;34m,\u001b[0m\u001b[0;34m\u001b[0m\u001b[0m\n\u001b[0;32m--> 868\u001b[0;31m           saving_listeners=saving_listeners)\n\u001b[0m\u001b[1;32m    869\u001b[0m     \u001b[0;32melse\u001b[0m\u001b[0;34m:\u001b[0m\u001b[0;34m\u001b[0m\u001b[0m\n\u001b[1;32m    870\u001b[0m       return self._estimator.fit(input_fn=input_fn,\n",
      "\u001b[0;32m/Users/borisi/anaconda2/envs/proactive/lib/python2.7/site-packages/tensorflow/python/estimator/estimator.pyc\u001b[0m in \u001b[0;36mtrain\u001b[0;34m(self, input_fn, hooks, steps, max_steps, saving_listeners)\u001b[0m\n\u001b[1;32m    312\u001b[0m \u001b[0;34m\u001b[0m\u001b[0m\n\u001b[1;32m    313\u001b[0m     \u001b[0msaving_listeners\u001b[0m \u001b[0;34m=\u001b[0m \u001b[0m_check_listeners_type\u001b[0m\u001b[0;34m(\u001b[0m\u001b[0msaving_listeners\u001b[0m\u001b[0;34m)\u001b[0m\u001b[0;34m\u001b[0m\u001b[0m\n\u001b[0;32m--> 314\u001b[0;31m     \u001b[0mloss\u001b[0m \u001b[0;34m=\u001b[0m \u001b[0mself\u001b[0m\u001b[0;34m.\u001b[0m\u001b[0m_train_model\u001b[0m\u001b[0;34m(\u001b[0m\u001b[0minput_fn\u001b[0m\u001b[0;34m,\u001b[0m \u001b[0mhooks\u001b[0m\u001b[0;34m,\u001b[0m \u001b[0msaving_listeners\u001b[0m\u001b[0;34m)\u001b[0m\u001b[0;34m\u001b[0m\u001b[0m\n\u001b[0m\u001b[1;32m    315\u001b[0m     \u001b[0mlogging\u001b[0m\u001b[0;34m.\u001b[0m\u001b[0minfo\u001b[0m\u001b[0;34m(\u001b[0m\u001b[0;34m'Loss for final step: %s.'\u001b[0m\u001b[0;34m,\u001b[0m \u001b[0mloss\u001b[0m\u001b[0;34m)\u001b[0m\u001b[0;34m\u001b[0m\u001b[0m\n\u001b[1;32m    316\u001b[0m     \u001b[0;32mreturn\u001b[0m \u001b[0mself\u001b[0m\u001b[0;34m\u001b[0m\u001b[0m\n",
      "\u001b[0;32m/Users/borisi/anaconda2/envs/proactive/lib/python2.7/site-packages/tensorflow/python/estimator/estimator.pyc\u001b[0m in \u001b[0;36m_train_model\u001b[0;34m(self, input_fn, hooks, saving_listeners)\u001b[0m\n\u001b[1;32m    813\u001b[0m         \u001b[0mloss\u001b[0m \u001b[0;34m=\u001b[0m \u001b[0mNone\u001b[0m\u001b[0;34m\u001b[0m\u001b[0m\n\u001b[1;32m    814\u001b[0m         \u001b[0;32mwhile\u001b[0m \u001b[0;32mnot\u001b[0m \u001b[0mmon_sess\u001b[0m\u001b[0;34m.\u001b[0m\u001b[0mshould_stop\u001b[0m\u001b[0;34m(\u001b[0m\u001b[0;34m)\u001b[0m\u001b[0;34m:\u001b[0m\u001b[0;34m\u001b[0m\u001b[0m\n\u001b[0;32m--> 815\u001b[0;31m           \u001b[0m_\u001b[0m\u001b[0;34m,\u001b[0m \u001b[0mloss\u001b[0m \u001b[0;34m=\u001b[0m \u001b[0mmon_sess\u001b[0m\u001b[0;34m.\u001b[0m\u001b[0mrun\u001b[0m\u001b[0;34m(\u001b[0m\u001b[0;34m[\u001b[0m\u001b[0mestimator_spec\u001b[0m\u001b[0;34m.\u001b[0m\u001b[0mtrain_op\u001b[0m\u001b[0;34m,\u001b[0m \u001b[0mestimator_spec\u001b[0m\u001b[0;34m.\u001b[0m\u001b[0mloss\u001b[0m\u001b[0;34m]\u001b[0m\u001b[0;34m)\u001b[0m\u001b[0;34m\u001b[0m\u001b[0m\n\u001b[0m\u001b[1;32m    816\u001b[0m       \u001b[0;32mreturn\u001b[0m \u001b[0mloss\u001b[0m\u001b[0;34m\u001b[0m\u001b[0m\n\u001b[1;32m    817\u001b[0m \u001b[0;34m\u001b[0m\u001b[0m\n",
      "\u001b[0;32m/Users/borisi/anaconda2/envs/proactive/lib/python2.7/site-packages/tensorflow/python/training/monitored_session.pyc\u001b[0m in \u001b[0;36mrun\u001b[0;34m(self, fetches, feed_dict, options, run_metadata)\u001b[0m\n\u001b[1;32m    537\u001b[0m                           \u001b[0mfeed_dict\u001b[0m\u001b[0;34m=\u001b[0m\u001b[0mfeed_dict\u001b[0m\u001b[0;34m,\u001b[0m\u001b[0;34m\u001b[0m\u001b[0m\n\u001b[1;32m    538\u001b[0m                           \u001b[0moptions\u001b[0m\u001b[0;34m=\u001b[0m\u001b[0moptions\u001b[0m\u001b[0;34m,\u001b[0m\u001b[0;34m\u001b[0m\u001b[0m\n\u001b[0;32m--> 539\u001b[0;31m                           run_metadata=run_metadata)\n\u001b[0m\u001b[1;32m    540\u001b[0m \u001b[0;34m\u001b[0m\u001b[0m\n\u001b[1;32m    541\u001b[0m   \u001b[0;32mdef\u001b[0m \u001b[0mrun_step_fn\u001b[0m\u001b[0;34m(\u001b[0m\u001b[0mself\u001b[0m\u001b[0;34m,\u001b[0m \u001b[0mstep_fn\u001b[0m\u001b[0;34m)\u001b[0m\u001b[0;34m:\u001b[0m\u001b[0;34m\u001b[0m\u001b[0m\n",
      "\u001b[0;32m/Users/borisi/anaconda2/envs/proactive/lib/python2.7/site-packages/tensorflow/python/training/monitored_session.pyc\u001b[0m in \u001b[0;36mrun\u001b[0;34m(self, fetches, feed_dict, options, run_metadata)\u001b[0m\n\u001b[1;32m   1011\u001b[0m                               \u001b[0mfeed_dict\u001b[0m\u001b[0;34m=\u001b[0m\u001b[0mfeed_dict\u001b[0m\u001b[0;34m,\u001b[0m\u001b[0;34m\u001b[0m\u001b[0m\n\u001b[1;32m   1012\u001b[0m                               \u001b[0moptions\u001b[0m\u001b[0;34m=\u001b[0m\u001b[0moptions\u001b[0m\u001b[0;34m,\u001b[0m\u001b[0;34m\u001b[0m\u001b[0m\n\u001b[0;32m-> 1013\u001b[0;31m                               run_metadata=run_metadata)\n\u001b[0m\u001b[1;32m   1014\u001b[0m       \u001b[0;32mexcept\u001b[0m \u001b[0m_PREEMPTION_ERRORS\u001b[0m \u001b[0;32mas\u001b[0m \u001b[0me\u001b[0m\u001b[0;34m:\u001b[0m\u001b[0;34m\u001b[0m\u001b[0m\n\u001b[1;32m   1015\u001b[0m         logging.info('An error was raised. This may be due to a preemption in '\n",
      "\u001b[0;32m/Users/borisi/anaconda2/envs/proactive/lib/python2.7/site-packages/tensorflow/python/training/monitored_session.pyc\u001b[0m in \u001b[0;36mrun\u001b[0;34m(self, *args, **kwargs)\u001b[0m\n\u001b[1;32m   1087\u001b[0m   \u001b[0;32mdef\u001b[0m \u001b[0mrun\u001b[0m\u001b[0;34m(\u001b[0m\u001b[0mself\u001b[0m\u001b[0;34m,\u001b[0m \u001b[0;34m*\u001b[0m\u001b[0margs\u001b[0m\u001b[0;34m,\u001b[0m \u001b[0;34m**\u001b[0m\u001b[0mkwargs\u001b[0m\u001b[0;34m)\u001b[0m\u001b[0;34m:\u001b[0m\u001b[0;34m\u001b[0m\u001b[0m\n\u001b[1;32m   1088\u001b[0m     \u001b[0;32mtry\u001b[0m\u001b[0;34m:\u001b[0m\u001b[0;34m\u001b[0m\u001b[0m\n\u001b[0;32m-> 1089\u001b[0;31m       \u001b[0;32mreturn\u001b[0m \u001b[0mself\u001b[0m\u001b[0;34m.\u001b[0m\u001b[0m_sess\u001b[0m\u001b[0;34m.\u001b[0m\u001b[0mrun\u001b[0m\u001b[0;34m(\u001b[0m\u001b[0;34m*\u001b[0m\u001b[0margs\u001b[0m\u001b[0;34m,\u001b[0m \u001b[0;34m**\u001b[0m\u001b[0mkwargs\u001b[0m\u001b[0;34m)\u001b[0m\u001b[0;34m\u001b[0m\u001b[0m\n\u001b[0m\u001b[1;32m   1090\u001b[0m     \u001b[0;32mexcept\u001b[0m \u001b[0m_PREEMPTION_ERRORS\u001b[0m\u001b[0;34m:\u001b[0m\u001b[0;34m\u001b[0m\u001b[0m\n\u001b[1;32m   1091\u001b[0m       \u001b[0;32mraise\u001b[0m\u001b[0;34m\u001b[0m\u001b[0m\n",
      "\u001b[0;32m/Users/borisi/anaconda2/envs/proactive/lib/python2.7/site-packages/tensorflow/python/training/monitored_session.pyc\u001b[0m in \u001b[0;36mrun\u001b[0;34m(self, fetches, feed_dict, options, run_metadata)\u001b[0m\n\u001b[1;32m   1167\u001b[0m               \u001b[0mresults\u001b[0m\u001b[0;34m=\u001b[0m\u001b[0moutputs\u001b[0m\u001b[0;34m[\u001b[0m\u001b[0mhook\u001b[0m\u001b[0;34m]\u001b[0m \u001b[0;32mif\u001b[0m \u001b[0mhook\u001b[0m \u001b[0;32min\u001b[0m \u001b[0moutputs\u001b[0m \u001b[0;32melse\u001b[0m \u001b[0mNone\u001b[0m\u001b[0;34m,\u001b[0m\u001b[0;34m\u001b[0m\u001b[0m\n\u001b[1;32m   1168\u001b[0m               \u001b[0moptions\u001b[0m\u001b[0;34m=\u001b[0m\u001b[0moptions\u001b[0m\u001b[0;34m,\u001b[0m\u001b[0;34m\u001b[0m\u001b[0m\n\u001b[0;32m-> 1169\u001b[0;31m               run_metadata=run_metadata))\n\u001b[0m\u001b[1;32m   1170\u001b[0m     \u001b[0mself\u001b[0m\u001b[0;34m.\u001b[0m\u001b[0m_should_stop\u001b[0m \u001b[0;34m=\u001b[0m \u001b[0mself\u001b[0m\u001b[0;34m.\u001b[0m\u001b[0m_should_stop\u001b[0m \u001b[0;32mor\u001b[0m \u001b[0mrun_context\u001b[0m\u001b[0;34m.\u001b[0m\u001b[0mstop_requested\u001b[0m\u001b[0;34m\u001b[0m\u001b[0m\n\u001b[1;32m   1171\u001b[0m \u001b[0;34m\u001b[0m\u001b[0m\n",
      "\u001b[0;32m/Users/borisi/anaconda2/envs/proactive/lib/python2.7/site-packages/tensorflow/contrib/learn/python/learn/monitors.pyc\u001b[0m in \u001b[0;36mafter_run\u001b[0;34m(self, run_context, run_values)\u001b[0m\n\u001b[1;32m   1194\u001b[0m         \"monitors\"] if \"monitors\" in run_values.results else {}\n\u001b[1;32m   1195\u001b[0m     \u001b[0;32mfor\u001b[0m \u001b[0mm\u001b[0m \u001b[0;32min\u001b[0m \u001b[0mself\u001b[0m\u001b[0;34m.\u001b[0m\u001b[0m_monitors\u001b[0m\u001b[0;34m:\u001b[0m\u001b[0;34m\u001b[0m\u001b[0m\n\u001b[0;32m-> 1196\u001b[0;31m       \u001b[0minduce_stop\u001b[0m \u001b[0;34m=\u001b[0m \u001b[0mm\u001b[0m\u001b[0;34m.\u001b[0m\u001b[0mstep_end\u001b[0m\u001b[0;34m(\u001b[0m\u001b[0mself\u001b[0m\u001b[0;34m.\u001b[0m\u001b[0m_last_step\u001b[0m\u001b[0;34m,\u001b[0m \u001b[0mresult\u001b[0m\u001b[0;34m)\u001b[0m\u001b[0;34m\u001b[0m\u001b[0m\n\u001b[0m\u001b[1;32m   1197\u001b[0m       \u001b[0;32mif\u001b[0m \u001b[0minduce_stop\u001b[0m\u001b[0;34m:\u001b[0m\u001b[0;34m\u001b[0m\u001b[0m\n\u001b[1;32m   1198\u001b[0m         \u001b[0mrun_context\u001b[0m\u001b[0;34m.\u001b[0m\u001b[0mrequest_stop\u001b[0m\u001b[0;34m(\u001b[0m\u001b[0;34m)\u001b[0m\u001b[0;34m\u001b[0m\u001b[0m\n",
      "\u001b[0;32m/Users/borisi/anaconda2/envs/proactive/lib/python2.7/site-packages/tensorflow/contrib/learn/python/learn/monitors.pyc\u001b[0m in \u001b[0;36mstep_end\u001b[0;34m(self, step, output)\u001b[0m\n\u001b[1;32m    354\u001b[0m     \u001b[0msuper\u001b[0m\u001b[0;34m(\u001b[0m\u001b[0mEveryN\u001b[0m\u001b[0;34m,\u001b[0m \u001b[0mself\u001b[0m\u001b[0;34m)\u001b[0m\u001b[0;34m.\u001b[0m\u001b[0mstep_end\u001b[0m\u001b[0;34m(\u001b[0m\u001b[0mstep\u001b[0m\u001b[0;34m,\u001b[0m \u001b[0moutput\u001b[0m\u001b[0;34m)\u001b[0m\u001b[0;34m\u001b[0m\u001b[0m\n\u001b[1;32m    355\u001b[0m     \u001b[0;32mif\u001b[0m \u001b[0mself\u001b[0m\u001b[0;34m.\u001b[0m\u001b[0m_every_n_step_begin_called\u001b[0m\u001b[0;34m:\u001b[0m\u001b[0;34m\u001b[0m\u001b[0m\n\u001b[0;32m--> 356\u001b[0;31m       \u001b[0;32mreturn\u001b[0m \u001b[0mself\u001b[0m\u001b[0;34m.\u001b[0m\u001b[0mevery_n_step_end\u001b[0m\u001b[0;34m(\u001b[0m\u001b[0mstep\u001b[0m\u001b[0;34m,\u001b[0m \u001b[0moutput\u001b[0m\u001b[0;34m)\u001b[0m\u001b[0;34m\u001b[0m\u001b[0m\n\u001b[0m\u001b[1;32m    357\u001b[0m     \u001b[0;32mreturn\u001b[0m \u001b[0mFalse\u001b[0m\u001b[0;34m\u001b[0m\u001b[0m\n\u001b[1;32m    358\u001b[0m \u001b[0;34m\u001b[0m\u001b[0m\n",
      "\u001b[0;32m/Users/borisi/anaconda2/envs/proactive/lib/python2.7/site-packages/tensorflow/contrib/learn/python/learn/monitors.pyc\u001b[0m in \u001b[0;36mevery_n_step_end\u001b[0;34m(self, step, outputs)\u001b[0m\n\u001b[1;32m    692\u001b[0m \u001b[0;34m\u001b[0m\u001b[0m\n\u001b[1;32m    693\u001b[0m     \u001b[0;31m# Run evaluation and log it.\u001b[0m\u001b[0;34m\u001b[0m\u001b[0;34m\u001b[0m\u001b[0m\n\u001b[0;32m--> 694\u001b[0;31m     \u001b[0mvalidation_outputs\u001b[0m \u001b[0;34m=\u001b[0m \u001b[0mself\u001b[0m\u001b[0;34m.\u001b[0m\u001b[0m_evaluate_estimator\u001b[0m\u001b[0;34m(\u001b[0m\u001b[0;34m)\u001b[0m\u001b[0;34m\u001b[0m\u001b[0m\n\u001b[0m\u001b[1;32m    695\u001b[0m     \u001b[0mstats\u001b[0m \u001b[0;34m=\u001b[0m \u001b[0;34m[\u001b[0m\u001b[0;34m]\u001b[0m\u001b[0;34m\u001b[0m\u001b[0m\n\u001b[1;32m    696\u001b[0m     \u001b[0;32mfor\u001b[0m \u001b[0mname\u001b[0m \u001b[0;32min\u001b[0m \u001b[0mvalidation_outputs\u001b[0m\u001b[0;34m:\u001b[0m\u001b[0;34m\u001b[0m\u001b[0m\n",
      "\u001b[0;32m/Users/borisi/anaconda2/envs/proactive/lib/python2.7/site-packages/tensorflow/contrib/learn/python/learn/monitors.pyc\u001b[0m in \u001b[0;36m_evaluate_estimator\u001b[0;34m(self)\u001b[0m\n\u001b[1;32m    663\u001b[0m       return self._estimator.evaluate(\n\u001b[1;32m    664\u001b[0m           \u001b[0minput_fn\u001b[0m\u001b[0;34m=\u001b[0m\u001b[0mself\u001b[0m\u001b[0;34m.\u001b[0m\u001b[0minput_fn\u001b[0m\u001b[0;34m,\u001b[0m \u001b[0msteps\u001b[0m\u001b[0;34m=\u001b[0m\u001b[0mself\u001b[0m\u001b[0;34m.\u001b[0m\u001b[0meval_steps\u001b[0m\u001b[0;34m,\u001b[0m \u001b[0mhooks\u001b[0m\u001b[0;34m=\u001b[0m\u001b[0mself\u001b[0m\u001b[0;34m.\u001b[0m\u001b[0mhooks\u001b[0m\u001b[0;34m,\u001b[0m\u001b[0;34m\u001b[0m\u001b[0m\n\u001b[0;32m--> 665\u001b[0;31m           name=self.name)\n\u001b[0m\u001b[1;32m    666\u001b[0m     \u001b[0;32melse\u001b[0m\u001b[0;34m:\u001b[0m\u001b[0;34m\u001b[0m\u001b[0m\n\u001b[1;32m    667\u001b[0m       return self._estimator.evaluate(\n",
      "\u001b[0;32m/Users/borisi/anaconda2/envs/proactive/lib/python2.7/site-packages/tensorflow/python/estimator/estimator.pyc\u001b[0m in \u001b[0;36mevaluate\u001b[0;34m(self, input_fn, steps, hooks, checkpoint_path, name)\u001b[0m\n\u001b[1;32m    365\u001b[0m         \u001b[0mhooks\u001b[0m\u001b[0;34m=\u001b[0m\u001b[0mhooks\u001b[0m\u001b[0;34m,\u001b[0m\u001b[0;34m\u001b[0m\u001b[0m\n\u001b[1;32m    366\u001b[0m         \u001b[0mcheckpoint_path\u001b[0m\u001b[0;34m=\u001b[0m\u001b[0mcheckpoint_path\u001b[0m\u001b[0;34m,\u001b[0m\u001b[0;34m\u001b[0m\u001b[0m\n\u001b[0;32m--> 367\u001b[0;31m         name=name)\n\u001b[0m\u001b[1;32m    368\u001b[0m \u001b[0;34m\u001b[0m\u001b[0m\n\u001b[1;32m    369\u001b[0m   \u001b[0;32mdef\u001b[0m \u001b[0m_convert_eval_steps_to_hooks\u001b[0m\u001b[0;34m(\u001b[0m\u001b[0mself\u001b[0m\u001b[0;34m,\u001b[0m \u001b[0msteps\u001b[0m\u001b[0;34m)\u001b[0m\u001b[0;34m:\u001b[0m\u001b[0;34m\u001b[0m\u001b[0m\n",
      "\u001b[0;32m/Users/borisi/anaconda2/envs/proactive/lib/python2.7/site-packages/tensorflow/python/estimator/estimator.pyc\u001b[0m in \u001b[0;36m_evaluate_model\u001b[0;34m(self, input_fn, hooks, checkpoint_path, name)\u001b[0m\n\u001b[1;32m    871\u001b[0m           \u001b[0mfinal_ops\u001b[0m\u001b[0;34m=\u001b[0m\u001b[0meval_dict\u001b[0m\u001b[0;34m,\u001b[0m\u001b[0;34m\u001b[0m\u001b[0m\n\u001b[1;32m    872\u001b[0m           \u001b[0mhooks\u001b[0m\u001b[0;34m=\u001b[0m\u001b[0mall_hooks\u001b[0m\u001b[0;34m,\u001b[0m\u001b[0;34m\u001b[0m\u001b[0m\n\u001b[0;32m--> 873\u001b[0;31m           config=self._session_config)\n\u001b[0m\u001b[1;32m    874\u001b[0m \u001b[0;34m\u001b[0m\u001b[0m\n\u001b[1;32m    875\u001b[0m       _write_dict_to_summary(\n",
      "\u001b[0;32m/Users/borisi/anaconda2/envs/proactive/lib/python2.7/site-packages/tensorflow/python/training/evaluation.pyc\u001b[0m in \u001b[0;36m_evaluate_once\u001b[0;34m(checkpoint_path, master, scaffold, eval_ops, feed_dict, final_ops, final_ops_feed_dict, hooks, config)\u001b[0m\n\u001b[1;32m    210\u001b[0m     \u001b[0;32mif\u001b[0m \u001b[0meval_ops\u001b[0m \u001b[0;32mis\u001b[0m \u001b[0;32mnot\u001b[0m \u001b[0mNone\u001b[0m\u001b[0;34m:\u001b[0m\u001b[0;34m\u001b[0m\u001b[0m\n\u001b[1;32m    211\u001b[0m       \u001b[0;32mwhile\u001b[0m \u001b[0;32mnot\u001b[0m \u001b[0msession\u001b[0m\u001b[0;34m.\u001b[0m\u001b[0mshould_stop\u001b[0m\u001b[0;34m(\u001b[0m\u001b[0;34m)\u001b[0m\u001b[0;34m:\u001b[0m\u001b[0;34m\u001b[0m\u001b[0m\n\u001b[0;32m--> 212\u001b[0;31m         \u001b[0msession\u001b[0m\u001b[0;34m.\u001b[0m\u001b[0mrun\u001b[0m\u001b[0;34m(\u001b[0m\u001b[0meval_ops\u001b[0m\u001b[0;34m,\u001b[0m \u001b[0mfeed_dict\u001b[0m\u001b[0;34m)\u001b[0m\u001b[0;34m\u001b[0m\u001b[0m\n\u001b[0m\u001b[1;32m    213\u001b[0m \u001b[0;34m\u001b[0m\u001b[0m\n\u001b[1;32m    214\u001b[0m   logging.info('Finished evaluation at ' + time.strftime('%Y-%m-%d-%H:%M:%S',\n",
      "\u001b[0;32m/Users/borisi/anaconda2/envs/proactive/lib/python2.7/site-packages/tensorflow/python/training/monitored_session.pyc\u001b[0m in \u001b[0;36mrun\u001b[0;34m(self, fetches, feed_dict, options, run_metadata)\u001b[0m\n\u001b[1;32m    537\u001b[0m                           \u001b[0mfeed_dict\u001b[0m\u001b[0;34m=\u001b[0m\u001b[0mfeed_dict\u001b[0m\u001b[0;34m,\u001b[0m\u001b[0;34m\u001b[0m\u001b[0m\n\u001b[1;32m    538\u001b[0m                           \u001b[0moptions\u001b[0m\u001b[0;34m=\u001b[0m\u001b[0moptions\u001b[0m\u001b[0;34m,\u001b[0m\u001b[0;34m\u001b[0m\u001b[0m\n\u001b[0;32m--> 539\u001b[0;31m                           run_metadata=run_metadata)\n\u001b[0m\u001b[1;32m    540\u001b[0m \u001b[0;34m\u001b[0m\u001b[0m\n\u001b[1;32m    541\u001b[0m   \u001b[0;32mdef\u001b[0m \u001b[0mrun_step_fn\u001b[0m\u001b[0;34m(\u001b[0m\u001b[0mself\u001b[0m\u001b[0;34m,\u001b[0m \u001b[0mstep_fn\u001b[0m\u001b[0;34m)\u001b[0m\u001b[0;34m:\u001b[0m\u001b[0;34m\u001b[0m\u001b[0m\n",
      "\u001b[0;32m/Users/borisi/anaconda2/envs/proactive/lib/python2.7/site-packages/tensorflow/python/training/monitored_session.pyc\u001b[0m in \u001b[0;36mrun\u001b[0;34m(self, fetches, feed_dict, options, run_metadata)\u001b[0m\n\u001b[1;32m   1011\u001b[0m                               \u001b[0mfeed_dict\u001b[0m\u001b[0;34m=\u001b[0m\u001b[0mfeed_dict\u001b[0m\u001b[0;34m,\u001b[0m\u001b[0;34m\u001b[0m\u001b[0m\n\u001b[1;32m   1012\u001b[0m                               \u001b[0moptions\u001b[0m\u001b[0;34m=\u001b[0m\u001b[0moptions\u001b[0m\u001b[0;34m,\u001b[0m\u001b[0;34m\u001b[0m\u001b[0m\n\u001b[0;32m-> 1013\u001b[0;31m                               run_metadata=run_metadata)\n\u001b[0m\u001b[1;32m   1014\u001b[0m       \u001b[0;32mexcept\u001b[0m \u001b[0m_PREEMPTION_ERRORS\u001b[0m \u001b[0;32mas\u001b[0m \u001b[0me\u001b[0m\u001b[0;34m:\u001b[0m\u001b[0;34m\u001b[0m\u001b[0m\n\u001b[1;32m   1015\u001b[0m         logging.info('An error was raised. This may be due to a preemption in '\n",
      "\u001b[0;32m/Users/borisi/anaconda2/envs/proactive/lib/python2.7/site-packages/tensorflow/python/training/monitored_session.pyc\u001b[0m in \u001b[0;36mrun\u001b[0;34m(self, *args, **kwargs)\u001b[0m\n\u001b[1;32m   1087\u001b[0m   \u001b[0;32mdef\u001b[0m \u001b[0mrun\u001b[0m\u001b[0;34m(\u001b[0m\u001b[0mself\u001b[0m\u001b[0;34m,\u001b[0m \u001b[0;34m*\u001b[0m\u001b[0margs\u001b[0m\u001b[0;34m,\u001b[0m \u001b[0;34m**\u001b[0m\u001b[0mkwargs\u001b[0m\u001b[0;34m)\u001b[0m\u001b[0;34m:\u001b[0m\u001b[0;34m\u001b[0m\u001b[0m\n\u001b[1;32m   1088\u001b[0m     \u001b[0;32mtry\u001b[0m\u001b[0;34m:\u001b[0m\u001b[0;34m\u001b[0m\u001b[0m\n\u001b[0;32m-> 1089\u001b[0;31m       \u001b[0;32mreturn\u001b[0m \u001b[0mself\u001b[0m\u001b[0;34m.\u001b[0m\u001b[0m_sess\u001b[0m\u001b[0;34m.\u001b[0m\u001b[0mrun\u001b[0m\u001b[0;34m(\u001b[0m\u001b[0;34m*\u001b[0m\u001b[0margs\u001b[0m\u001b[0;34m,\u001b[0m \u001b[0;34m**\u001b[0m\u001b[0mkwargs\u001b[0m\u001b[0;34m)\u001b[0m\u001b[0;34m\u001b[0m\u001b[0m\n\u001b[0m\u001b[1;32m   1090\u001b[0m     \u001b[0;32mexcept\u001b[0m \u001b[0m_PREEMPTION_ERRORS\u001b[0m\u001b[0;34m:\u001b[0m\u001b[0;34m\u001b[0m\u001b[0m\n\u001b[1;32m   1091\u001b[0m       \u001b[0;32mraise\u001b[0m\u001b[0;34m\u001b[0m\u001b[0m\n",
      "\u001b[0;32m/Users/borisi/anaconda2/envs/proactive/lib/python2.7/site-packages/tensorflow/python/training/monitored_session.pyc\u001b[0m in \u001b[0;36mrun\u001b[0;34m(self, fetches, feed_dict, options, run_metadata)\u001b[0m\n\u001b[1;32m   1159\u001b[0m                                   \u001b[0mfeed_dict\u001b[0m\u001b[0;34m=\u001b[0m\u001b[0mfeed_dict\u001b[0m\u001b[0;34m,\u001b[0m\u001b[0;34m\u001b[0m\u001b[0m\n\u001b[1;32m   1160\u001b[0m                                   \u001b[0moptions\u001b[0m\u001b[0;34m=\u001b[0m\u001b[0moptions\u001b[0m\u001b[0;34m,\u001b[0m\u001b[0;34m\u001b[0m\u001b[0m\n\u001b[0;32m-> 1161\u001b[0;31m                                   run_metadata=run_metadata)\n\u001b[0m\u001b[1;32m   1162\u001b[0m \u001b[0;34m\u001b[0m\u001b[0m\n\u001b[1;32m   1163\u001b[0m     \u001b[0;32mfor\u001b[0m \u001b[0mhook\u001b[0m \u001b[0;32min\u001b[0m \u001b[0mself\u001b[0m\u001b[0;34m.\u001b[0m\u001b[0m_hooks\u001b[0m\u001b[0;34m:\u001b[0m\u001b[0;34m\u001b[0m\u001b[0m\n",
      "\u001b[0;32m/Users/borisi/anaconda2/envs/proactive/lib/python2.7/site-packages/tensorflow/python/training/monitored_session.pyc\u001b[0m in \u001b[0;36mrun\u001b[0;34m(self, *args, **kwargs)\u001b[0m\n\u001b[1;32m    939\u001b[0m \u001b[0;34m\u001b[0m\u001b[0m\n\u001b[1;32m    940\u001b[0m   \u001b[0;32mdef\u001b[0m \u001b[0mrun\u001b[0m\u001b[0;34m(\u001b[0m\u001b[0mself\u001b[0m\u001b[0;34m,\u001b[0m \u001b[0;34m*\u001b[0m\u001b[0margs\u001b[0m\u001b[0;34m,\u001b[0m \u001b[0;34m**\u001b[0m\u001b[0mkwargs\u001b[0m\u001b[0;34m)\u001b[0m\u001b[0;34m:\u001b[0m\u001b[0;34m\u001b[0m\u001b[0m\n\u001b[0;32m--> 941\u001b[0;31m     \u001b[0;32mreturn\u001b[0m \u001b[0mself\u001b[0m\u001b[0;34m.\u001b[0m\u001b[0m_sess\u001b[0m\u001b[0;34m.\u001b[0m\u001b[0mrun\u001b[0m\u001b[0;34m(\u001b[0m\u001b[0;34m*\u001b[0m\u001b[0margs\u001b[0m\u001b[0;34m,\u001b[0m \u001b[0;34m**\u001b[0m\u001b[0mkwargs\u001b[0m\u001b[0;34m)\u001b[0m\u001b[0;34m\u001b[0m\u001b[0m\n\u001b[0m\u001b[1;32m    942\u001b[0m \u001b[0;34m\u001b[0m\u001b[0m\n\u001b[1;32m    943\u001b[0m   \u001b[0;32mdef\u001b[0m \u001b[0mrun_step_fn\u001b[0m\u001b[0;34m(\u001b[0m\u001b[0mself\u001b[0m\u001b[0;34m,\u001b[0m \u001b[0mstep_fn\u001b[0m\u001b[0;34m,\u001b[0m \u001b[0mraw_session\u001b[0m\u001b[0;34m,\u001b[0m \u001b[0mrun_with_hooks\u001b[0m\u001b[0;34m)\u001b[0m\u001b[0;34m:\u001b[0m\u001b[0;34m\u001b[0m\u001b[0m\n",
      "\u001b[0;32m/Users/borisi/anaconda2/envs/proactive/lib/python2.7/site-packages/tensorflow/python/client/session.pyc\u001b[0m in \u001b[0;36mrun\u001b[0;34m(self, fetches, feed_dict, options, run_metadata)\u001b[0m\n\u001b[1;32m    893\u001b[0m     \u001b[0;32mtry\u001b[0m\u001b[0;34m:\u001b[0m\u001b[0;34m\u001b[0m\u001b[0m\n\u001b[1;32m    894\u001b[0m       result = self._run(None, fetches, feed_dict, options_ptr,\n\u001b[0;32m--> 895\u001b[0;31m                          run_metadata_ptr)\n\u001b[0m\u001b[1;32m    896\u001b[0m       \u001b[0;32mif\u001b[0m \u001b[0mrun_metadata\u001b[0m\u001b[0;34m:\u001b[0m\u001b[0;34m\u001b[0m\u001b[0m\n\u001b[1;32m    897\u001b[0m         \u001b[0mproto_data\u001b[0m \u001b[0;34m=\u001b[0m \u001b[0mtf_session\u001b[0m\u001b[0;34m.\u001b[0m\u001b[0mTF_GetBuffer\u001b[0m\u001b[0;34m(\u001b[0m\u001b[0mrun_metadata_ptr\u001b[0m\u001b[0;34m)\u001b[0m\u001b[0;34m\u001b[0m\u001b[0m\n",
      "\u001b[0;32m/Users/borisi/anaconda2/envs/proactive/lib/python2.7/site-packages/tensorflow/python/client/session.pyc\u001b[0m in \u001b[0;36m_run\u001b[0;34m(self, handle, fetches, feed_dict, options, run_metadata)\u001b[0m\n\u001b[1;32m   1126\u001b[0m     \u001b[0;32mif\u001b[0m \u001b[0mfinal_fetches\u001b[0m \u001b[0;32mor\u001b[0m \u001b[0mfinal_targets\u001b[0m \u001b[0;32mor\u001b[0m \u001b[0;34m(\u001b[0m\u001b[0mhandle\u001b[0m \u001b[0;32mand\u001b[0m \u001b[0mfeed_dict_tensor\u001b[0m\u001b[0;34m)\u001b[0m\u001b[0;34m:\u001b[0m\u001b[0;34m\u001b[0m\u001b[0m\n\u001b[1;32m   1127\u001b[0m       results = self._do_run(handle, final_targets, final_fetches,\n\u001b[0;32m-> 1128\u001b[0;31m                              feed_dict_tensor, options, run_metadata)\n\u001b[0m\u001b[1;32m   1129\u001b[0m     \u001b[0;32melse\u001b[0m\u001b[0;34m:\u001b[0m\u001b[0;34m\u001b[0m\u001b[0m\n\u001b[1;32m   1130\u001b[0m       \u001b[0mresults\u001b[0m \u001b[0;34m=\u001b[0m \u001b[0;34m[\u001b[0m\u001b[0;34m]\u001b[0m\u001b[0;34m\u001b[0m\u001b[0m\n",
      "\u001b[0;32m/Users/borisi/anaconda2/envs/proactive/lib/python2.7/site-packages/tensorflow/python/client/session.pyc\u001b[0m in \u001b[0;36m_do_run\u001b[0;34m(self, handle, target_list, fetch_list, feed_dict, options, run_metadata)\u001b[0m\n\u001b[1;32m   1342\u001b[0m     \u001b[0;32mif\u001b[0m \u001b[0mhandle\u001b[0m \u001b[0;32mis\u001b[0m \u001b[0mNone\u001b[0m\u001b[0;34m:\u001b[0m\u001b[0;34m\u001b[0m\u001b[0m\n\u001b[1;32m   1343\u001b[0m       return self._do_call(_run_fn, self._session, feeds, fetches, targets,\n\u001b[0;32m-> 1344\u001b[0;31m                            options, run_metadata)\n\u001b[0m\u001b[1;32m   1345\u001b[0m     \u001b[0;32melse\u001b[0m\u001b[0;34m:\u001b[0m\u001b[0;34m\u001b[0m\u001b[0m\n\u001b[1;32m   1346\u001b[0m       \u001b[0;32mreturn\u001b[0m \u001b[0mself\u001b[0m\u001b[0;34m.\u001b[0m\u001b[0m_do_call\u001b[0m\u001b[0;34m(\u001b[0m\u001b[0m_prun_fn\u001b[0m\u001b[0;34m,\u001b[0m \u001b[0mself\u001b[0m\u001b[0;34m.\u001b[0m\u001b[0m_session\u001b[0m\u001b[0;34m,\u001b[0m \u001b[0mhandle\u001b[0m\u001b[0;34m,\u001b[0m \u001b[0mfeeds\u001b[0m\u001b[0;34m,\u001b[0m \u001b[0mfetches\u001b[0m\u001b[0;34m)\u001b[0m\u001b[0;34m\u001b[0m\u001b[0m\n",
      "\u001b[0;32m/Users/borisi/anaconda2/envs/proactive/lib/python2.7/site-packages/tensorflow/python/client/session.pyc\u001b[0m in \u001b[0;36m_do_call\u001b[0;34m(self, fn, *args)\u001b[0m\n\u001b[1;32m   1348\u001b[0m   \u001b[0;32mdef\u001b[0m \u001b[0m_do_call\u001b[0m\u001b[0;34m(\u001b[0m\u001b[0mself\u001b[0m\u001b[0;34m,\u001b[0m \u001b[0mfn\u001b[0m\u001b[0;34m,\u001b[0m \u001b[0;34m*\u001b[0m\u001b[0margs\u001b[0m\u001b[0;34m)\u001b[0m\u001b[0;34m:\u001b[0m\u001b[0;34m\u001b[0m\u001b[0m\n\u001b[1;32m   1349\u001b[0m     \u001b[0;32mtry\u001b[0m\u001b[0;34m:\u001b[0m\u001b[0;34m\u001b[0m\u001b[0m\n\u001b[0;32m-> 1350\u001b[0;31m       \u001b[0;32mreturn\u001b[0m \u001b[0mfn\u001b[0m\u001b[0;34m(\u001b[0m\u001b[0;34m*\u001b[0m\u001b[0margs\u001b[0m\u001b[0;34m)\u001b[0m\u001b[0;34m\u001b[0m\u001b[0m\n\u001b[0m\u001b[1;32m   1351\u001b[0m     \u001b[0;32mexcept\u001b[0m \u001b[0merrors\u001b[0m\u001b[0;34m.\u001b[0m\u001b[0mOpError\u001b[0m \u001b[0;32mas\u001b[0m \u001b[0me\u001b[0m\u001b[0;34m:\u001b[0m\u001b[0;34m\u001b[0m\u001b[0m\n\u001b[1;32m   1352\u001b[0m       \u001b[0mmessage\u001b[0m \u001b[0;34m=\u001b[0m \u001b[0mcompat\u001b[0m\u001b[0;34m.\u001b[0m\u001b[0mas_text\u001b[0m\u001b[0;34m(\u001b[0m\u001b[0me\u001b[0m\u001b[0;34m.\u001b[0m\u001b[0mmessage\u001b[0m\u001b[0;34m)\u001b[0m\u001b[0;34m\u001b[0m\u001b[0m\n",
      "\u001b[0;32m/Users/borisi/anaconda2/envs/proactive/lib/python2.7/site-packages/tensorflow/python/client/session.pyc\u001b[0m in \u001b[0;36m_run_fn\u001b[0;34m(session, feed_dict, fetch_list, target_list, options, run_metadata)\u001b[0m\n\u001b[1;32m   1327\u001b[0m           return tf_session.TF_Run(session, options,\n\u001b[1;32m   1328\u001b[0m                                    \u001b[0mfeed_dict\u001b[0m\u001b[0;34m,\u001b[0m \u001b[0mfetch_list\u001b[0m\u001b[0;34m,\u001b[0m \u001b[0mtarget_list\u001b[0m\u001b[0;34m,\u001b[0m\u001b[0;34m\u001b[0m\u001b[0m\n\u001b[0;32m-> 1329\u001b[0;31m                                    status, run_metadata)\n\u001b[0m\u001b[1;32m   1330\u001b[0m \u001b[0;34m\u001b[0m\u001b[0m\n\u001b[1;32m   1331\u001b[0m     \u001b[0;32mdef\u001b[0m \u001b[0m_prun_fn\u001b[0m\u001b[0;34m(\u001b[0m\u001b[0msession\u001b[0m\u001b[0;34m,\u001b[0m \u001b[0mhandle\u001b[0m\u001b[0;34m,\u001b[0m \u001b[0mfeed_dict\u001b[0m\u001b[0;34m,\u001b[0m \u001b[0mfetch_list\u001b[0m\u001b[0;34m)\u001b[0m\u001b[0;34m:\u001b[0m\u001b[0;34m\u001b[0m\u001b[0m\n",
      "\u001b[0;31mKeyboardInterrupt\u001b[0m: "
     ]
    }
   ],
   "source": [
    "experiment.train_and_evaluate()"
   ]
  },
  {
   "cell_type": "code",
   "execution_count": 13,
   "metadata": {},
   "outputs": [
    {
     "name": "stdout",
     "output_type": "stream",
     "text": [
      "peak memory: 770.16 MiB, increment: 0.00 MiB\n"
     ]
    }
   ],
   "source": [
    "%memit"
   ]
  },
  {
   "cell_type": "markdown",
   "metadata": {},
   "source": [
    "# Number of Parameters"
   ]
  },
  {
   "cell_type": "code",
   "execution_count": 14,
   "metadata": {},
   "outputs": [
    {
     "data": {
      "text/plain": [
       "['global_step',\n",
       " 'human-robot/edge_encoder/rnn/multi_rnn_cell/cell_0/layer_norm_basic_lstm_cell/bias',\n",
       " 'human-robot/edge_encoder/rnn/multi_rnn_cell/cell_0/layer_norm_basic_lstm_cell/kernel',\n",
       " 'human/decoder/p_y_xz/initial_state_projection/cell_0/initial_c/bias',\n",
       " 'human/decoder/p_y_xz/initial_state_projection/cell_0/initial_c/kernel',\n",
       " 'human/decoder/p_y_xz/initial_state_projection/cell_0/initial_h/bias',\n",
       " 'human/decoder/p_y_xz/initial_state_projection/cell_0/initial_h/kernel',\n",
       " 'human/decoder/p_y_xz/rnn/corr_projection/bias',\n",
       " 'human/decoder/p_y_xz/rnn/corr_projection/kernel',\n",
       " 'human/decoder/p_y_xz/rnn/log_pi_projection/bias',\n",
       " 'human/decoder/p_y_xz/rnn/log_pi_projection/kernel',\n",
       " 'human/decoder/p_y_xz/rnn/log_sigma_projection/bias',\n",
       " 'human/decoder/p_y_xz/rnn/log_sigma_projection/kernel',\n",
       " 'human/decoder/p_y_xz/rnn/mu_projection/bias',\n",
       " 'human/decoder/p_y_xz/rnn/mu_projection/kernel',\n",
       " 'human/decoder/p_y_xz/rnn/multi_rnn_cell/cell_0/layer_norm_basic_lstm_cell/bias',\n",
       " 'human/decoder/p_y_xz/rnn/multi_rnn_cell/cell_0/layer_norm_basic_lstm_cell/kernel',\n",
       " 'human/encoder/p_z_x/dense0/bias',\n",
       " 'human/encoder/p_z_x/dense0/kernel',\n",
       " 'human/encoder/p_z_x/projection/bias',\n",
       " 'human/encoder/p_z_x/projection/kernel',\n",
       " 'human/encoder/q_z_xy/projection/bias',\n",
       " 'human/encoder/q_z_xy/projection/kernel',\n",
       " 'human/features_standardization/train_extras_mean',\n",
       " 'human/features_standardization/train_extras_std',\n",
       " 'human/features_standardization/train_mean',\n",
       " 'human/features_standardization/train_std',\n",
       " 'human/future_encoder/bidirectional_rnn/fw/multi_rnn_cell/cell_0/layer_norm_basic_lstm_cell/bias',\n",
       " 'human/future_encoder/bidirectional_rnn/fw/multi_rnn_cell/cell_0/layer_norm_basic_lstm_cell/kernel',\n",
       " 'human/future_encoder/initial_state_projection/cell_0/initial_c/bias',\n",
       " 'human/future_encoder/initial_state_projection/cell_0/initial_c/kernel',\n",
       " 'human/future_encoder/initial_state_projection/cell_0/initial_h/bias',\n",
       " 'human/future_encoder/initial_state_projection/cell_0/initial_h/kernel',\n",
       " 'human/history_encoder/rnn/multi_rnn_cell/cell_0/layer_norm_basic_lstm_cell/bias',\n",
       " 'human/history_encoder/rnn/multi_rnn_cell/cell_0/layer_norm_basic_lstm_cell/kernel',\n",
       " 'human/label_standardization/train_mean',\n",
       " 'human/label_standardization/train_std',\n",
       " 'human/total_edge_influence_encoder/bidirectional_rnn/fw/multi_rnn_cell/cell_0/layer_norm_basic_lstm_cell/bias',\n",
       " 'human/total_edge_influence_encoder/bidirectional_rnn/fw/multi_rnn_cell/cell_0/layer_norm_basic_lstm_cell/kernel',\n",
       " 'optimizer/beta1_power',\n",
       " 'optimizer/beta2_power',\n",
       " 'optimizer/human-robot/edge_encoder/rnn/multi_rnn_cell/cell_0/layer_norm_basic_lstm_cell/bias/Adam',\n",
       " 'optimizer/human-robot/edge_encoder/rnn/multi_rnn_cell/cell_0/layer_norm_basic_lstm_cell/bias/Adam_1',\n",
       " 'optimizer/human-robot/edge_encoder/rnn/multi_rnn_cell/cell_0/layer_norm_basic_lstm_cell/kernel/Adam',\n",
       " 'optimizer/human-robot/edge_encoder/rnn/multi_rnn_cell/cell_0/layer_norm_basic_lstm_cell/kernel/Adam_1',\n",
       " 'optimizer/human/decoder/p_y_xz/initial_state_projection/cell_0/initial_c/bias/Adam',\n",
       " 'optimizer/human/decoder/p_y_xz/initial_state_projection/cell_0/initial_c/bias/Adam_1',\n",
       " 'optimizer/human/decoder/p_y_xz/initial_state_projection/cell_0/initial_c/kernel/Adam',\n",
       " 'optimizer/human/decoder/p_y_xz/initial_state_projection/cell_0/initial_c/kernel/Adam_1',\n",
       " 'optimizer/human/decoder/p_y_xz/initial_state_projection/cell_0/initial_h/bias/Adam',\n",
       " 'optimizer/human/decoder/p_y_xz/initial_state_projection/cell_0/initial_h/bias/Adam_1',\n",
       " 'optimizer/human/decoder/p_y_xz/initial_state_projection/cell_0/initial_h/kernel/Adam',\n",
       " 'optimizer/human/decoder/p_y_xz/initial_state_projection/cell_0/initial_h/kernel/Adam_1',\n",
       " 'optimizer/human/decoder/p_y_xz/rnn/corr_projection/bias/Adam',\n",
       " 'optimizer/human/decoder/p_y_xz/rnn/corr_projection/bias/Adam_1',\n",
       " 'optimizer/human/decoder/p_y_xz/rnn/corr_projection/kernel/Adam',\n",
       " 'optimizer/human/decoder/p_y_xz/rnn/corr_projection/kernel/Adam_1',\n",
       " 'optimizer/human/decoder/p_y_xz/rnn/log_pi_projection/bias/Adam',\n",
       " 'optimizer/human/decoder/p_y_xz/rnn/log_pi_projection/bias/Adam_1',\n",
       " 'optimizer/human/decoder/p_y_xz/rnn/log_pi_projection/kernel/Adam',\n",
       " 'optimizer/human/decoder/p_y_xz/rnn/log_pi_projection/kernel/Adam_1',\n",
       " 'optimizer/human/decoder/p_y_xz/rnn/log_sigma_projection/bias/Adam',\n",
       " 'optimizer/human/decoder/p_y_xz/rnn/log_sigma_projection/bias/Adam_1',\n",
       " 'optimizer/human/decoder/p_y_xz/rnn/log_sigma_projection/kernel/Adam',\n",
       " 'optimizer/human/decoder/p_y_xz/rnn/log_sigma_projection/kernel/Adam_1',\n",
       " 'optimizer/human/decoder/p_y_xz/rnn/mu_projection/bias/Adam',\n",
       " 'optimizer/human/decoder/p_y_xz/rnn/mu_projection/bias/Adam_1',\n",
       " 'optimizer/human/decoder/p_y_xz/rnn/mu_projection/kernel/Adam',\n",
       " 'optimizer/human/decoder/p_y_xz/rnn/mu_projection/kernel/Adam_1',\n",
       " 'optimizer/human/decoder/p_y_xz/rnn/multi_rnn_cell/cell_0/layer_norm_basic_lstm_cell/bias/Adam',\n",
       " 'optimizer/human/decoder/p_y_xz/rnn/multi_rnn_cell/cell_0/layer_norm_basic_lstm_cell/bias/Adam_1',\n",
       " 'optimizer/human/decoder/p_y_xz/rnn/multi_rnn_cell/cell_0/layer_norm_basic_lstm_cell/kernel/Adam',\n",
       " 'optimizer/human/decoder/p_y_xz/rnn/multi_rnn_cell/cell_0/layer_norm_basic_lstm_cell/kernel/Adam_1',\n",
       " 'optimizer/human/encoder/p_z_x/dense0/bias/Adam',\n",
       " 'optimizer/human/encoder/p_z_x/dense0/bias/Adam_1',\n",
       " 'optimizer/human/encoder/p_z_x/dense0/kernel/Adam',\n",
       " 'optimizer/human/encoder/p_z_x/dense0/kernel/Adam_1',\n",
       " 'optimizer/human/encoder/p_z_x/projection/bias/Adam',\n",
       " 'optimizer/human/encoder/p_z_x/projection/bias/Adam_1',\n",
       " 'optimizer/human/encoder/p_z_x/projection/kernel/Adam',\n",
       " 'optimizer/human/encoder/p_z_x/projection/kernel/Adam_1',\n",
       " 'optimizer/human/encoder/q_z_xy/projection/bias/Adam',\n",
       " 'optimizer/human/encoder/q_z_xy/projection/bias/Adam_1',\n",
       " 'optimizer/human/encoder/q_z_xy/projection/kernel/Adam',\n",
       " 'optimizer/human/encoder/q_z_xy/projection/kernel/Adam_1',\n",
       " 'optimizer/human/future_encoder/bidirectional_rnn/fw/multi_rnn_cell/cell_0/layer_norm_basic_lstm_cell/bias/Adam',\n",
       " 'optimizer/human/future_encoder/bidirectional_rnn/fw/multi_rnn_cell/cell_0/layer_norm_basic_lstm_cell/bias/Adam_1',\n",
       " 'optimizer/human/future_encoder/bidirectional_rnn/fw/multi_rnn_cell/cell_0/layer_norm_basic_lstm_cell/kernel/Adam',\n",
       " 'optimizer/human/future_encoder/bidirectional_rnn/fw/multi_rnn_cell/cell_0/layer_norm_basic_lstm_cell/kernel/Adam_1',\n",
       " 'optimizer/human/future_encoder/initial_state_projection/cell_0/initial_c/bias/Adam',\n",
       " 'optimizer/human/future_encoder/initial_state_projection/cell_0/initial_c/bias/Adam_1',\n",
       " 'optimizer/human/future_encoder/initial_state_projection/cell_0/initial_c/kernel/Adam',\n",
       " 'optimizer/human/future_encoder/initial_state_projection/cell_0/initial_c/kernel/Adam_1',\n",
       " 'optimizer/human/future_encoder/initial_state_projection/cell_0/initial_h/bias/Adam',\n",
       " 'optimizer/human/future_encoder/initial_state_projection/cell_0/initial_h/bias/Adam_1',\n",
       " 'optimizer/human/future_encoder/initial_state_projection/cell_0/initial_h/kernel/Adam',\n",
       " 'optimizer/human/future_encoder/initial_state_projection/cell_0/initial_h/kernel/Adam_1',\n",
       " 'optimizer/human/history_encoder/rnn/multi_rnn_cell/cell_0/layer_norm_basic_lstm_cell/bias/Adam',\n",
       " 'optimizer/human/history_encoder/rnn/multi_rnn_cell/cell_0/layer_norm_basic_lstm_cell/bias/Adam_1',\n",
       " 'optimizer/human/history_encoder/rnn/multi_rnn_cell/cell_0/layer_norm_basic_lstm_cell/kernel/Adam',\n",
       " 'optimizer/human/history_encoder/rnn/multi_rnn_cell/cell_0/layer_norm_basic_lstm_cell/kernel/Adam_1',\n",
       " 'optimizer/human/total_edge_influence_encoder/bidirectional_rnn/fw/multi_rnn_cell/cell_0/layer_norm_basic_lstm_cell/bias/Adam',\n",
       " 'optimizer/human/total_edge_influence_encoder/bidirectional_rnn/fw/multi_rnn_cell/cell_0/layer_norm_basic_lstm_cell/bias/Adam_1',\n",
       " 'optimizer/human/total_edge_influence_encoder/bidirectional_rnn/fw/multi_rnn_cell/cell_0/layer_norm_basic_lstm_cell/kernel/Adam',\n",
       " 'optimizer/human/total_edge_influence_encoder/bidirectional_rnn/fw/multi_rnn_cell/cell_0/layer_norm_basic_lstm_cell/kernel/Adam_1',\n",
       " 'optimizer/robot_robot/future_encoder/bidirectional_rnn/fw/multi_rnn_cell/cell_0/layer_norm_basic_lstm_cell/bias/Adam',\n",
       " 'optimizer/robot_robot/future_encoder/bidirectional_rnn/fw/multi_rnn_cell/cell_0/layer_norm_basic_lstm_cell/bias/Adam_1',\n",
       " 'optimizer/robot_robot/future_encoder/bidirectional_rnn/fw/multi_rnn_cell/cell_0/layer_norm_basic_lstm_cell/kernel/Adam',\n",
       " 'optimizer/robot_robot/future_encoder/bidirectional_rnn/fw/multi_rnn_cell/cell_0/layer_norm_basic_lstm_cell/kernel/Adam_1',\n",
       " 'optimizer/robot_robot/future_encoder/initial_state_projection/cell_0/initial_c/bias/Adam',\n",
       " 'optimizer/robot_robot/future_encoder/initial_state_projection/cell_0/initial_c/bias/Adam_1',\n",
       " 'optimizer/robot_robot/future_encoder/initial_state_projection/cell_0/initial_c/kernel/Adam',\n",
       " 'optimizer/robot_robot/future_encoder/initial_state_projection/cell_0/initial_c/kernel/Adam_1',\n",
       " 'optimizer/robot_robot/future_encoder/initial_state_projection/cell_0/initial_h/bias/Adam',\n",
       " 'optimizer/robot_robot/future_encoder/initial_state_projection/cell_0/initial_h/bias/Adam_1',\n",
       " 'optimizer/robot_robot/future_encoder/initial_state_projection/cell_0/initial_h/kernel/Adam',\n",
       " 'optimizer/robot_robot/future_encoder/initial_state_projection/cell_0/initial_h/kernel/Adam_1',\n",
       " 'robot_robot/future_encoder/bidirectional_rnn/fw/multi_rnn_cell/cell_0/layer_norm_basic_lstm_cell/bias',\n",
       " 'robot_robot/future_encoder/bidirectional_rnn/fw/multi_rnn_cell/cell_0/layer_norm_basic_lstm_cell/kernel',\n",
       " 'robot_robot/future_encoder/initial_state_projection/cell_0/initial_c/bias',\n",
       " 'robot_robot/future_encoder/initial_state_projection/cell_0/initial_c/kernel',\n",
       " 'robot_robot/future_encoder/initial_state_projection/cell_0/initial_h/bias',\n",
       " 'robot_robot/future_encoder/initial_state_projection/cell_0/initial_h/kernel']"
      ]
     },
     "execution_count": 14,
     "metadata": {},
     "output_type": "execute_result"
    }
   ],
   "source": [
    "experiment.estimator.get_variable_names()"
   ]
  },
  {
   "cell_type": "code",
   "execution_count": 15,
   "metadata": {},
   "outputs": [
    {
     "name": "stdout",
     "output_type": "stream",
     "text": [
      "Total number of parameters: 782,911\n",
      "----------------------------------------\n",
      "robot_robot: 5,440\n",
      "optimizer: 521,930\n",
      "global_step: 1\n",
      "human: 254,868\n",
      "human-robot: 672\n",
      "----------------------------------------\n",
      "robot_robot/future_encoder: 5,440\n",
      "human/label_standardization: 4\n",
      "global_step: 1\n",
      "human/future_encoder: 4,928\n",
      "human/encoder: 6,468\n",
      "optimizer/robot_robot: 10,880\n",
      "human/features_standardization: 12\n",
      "human/decoder: 237,920\n",
      "human-robot/edge_encoder: 672\n",
      "optimizer/beta2_power: 1\n",
      "human/total_edge_influence_encoder: 544\n",
      "optimizer/human-robot: 1,344\n",
      "optimizer/human: 509,704\n",
      "human/history_encoder: 4,992\n",
      "optimizer/beta1_power: 1\n",
      "----------------------------------------\n"
     ]
    }
   ],
   "source": [
    "def print_num_params(experiment, level=2):\n",
    "    variable_names = experiment.estimator.get_variable_names()\n",
    "    if level == 0:\n",
    "        # Total number of parameters\n",
    "        num_params = np.sum([np.prod(experiment.estimator.get_variable_value(var_name).shape) for var_name in variable_names]).astype(int)\n",
    "        print(\"Total number of parameters: {:,}\".format(num_params))\n",
    "    \n",
    "    else:\n",
    "        node_type_params = defaultdict(int)\n",
    "        for variable_name in variable_names:\n",
    "            key = '/'.join(variable_name.split('/')[:level])\n",
    "            node_type_params[key] += np.prod(experiment.estimator.get_variable_value(variable_name).shape).astype(int)\n",
    "\n",
    "        for (key, value) in node_type_params.iteritems():\n",
    "            print(\"{}: {:,}\".format(key, value))\n",
    "\n",
    "    print(\"-\"*40)\n",
    "    \n",
    "print_num_params(experiment, level=0)\n",
    "print_num_params(experiment, level=1)\n",
    "print_num_params(experiment, level=2)"
   ]
  },
  {
   "cell_type": "markdown",
   "metadata": {},
   "source": [
    "# Saving the Model"
   ]
  },
  {
   "cell_type": "code",
   "execution_count": 16,
   "metadata": {},
   "outputs": [
    {
     "name": "stdout",
     "output_type": "stream",
     "text": [
      "INFO:tensorflow:Signatures INCLUDED in export for Classify: None\n",
      "INFO:tensorflow:Signatures INCLUDED in export for Regress: None\n",
      "INFO:tensorflow:Signatures INCLUDED in export for Predict: ['serving_default', 'predictions']\n",
      "INFO:tensorflow:Restoring parameters from models/GPU1_checkpoints/model.ckpt-1\n",
      "INFO:tensorflow:Assets added to graph.\n",
      "INFO:tensorflow:No assets to write.\n",
      "INFO:tensorflow:SavedModel written to: models/temp-1522211010/saved_model.pb\n"
     ]
    }
   ],
   "source": [
    "state_dim = train_data_dict[\"input_dict\"][robot_node].shape[2]\n",
    "extras_dim = train_data_dict[\"input_dict\"][\"extras\"].shape[2]\n",
    "ph = hps.prediction_horizon\n",
    "\n",
    "with tf.Graph().as_default():\n",
    "    serving_input_receiver_fn = tf.estimator.export.build_raw_serving_input_receiver_fn(\n",
    "        {\"robot/car1\": tf.placeholder(tf.float32, shape=[1, None, state_dim], name=\"robot/car1\"),\n",
    "         \"human/car2\": tf.placeholder(tf.float32, shape=[1, None, state_dim], name=\"human/car2\"),\n",
    "         \"extras\": tf.placeholder(tf.float32, shape=[1, None, extras_dim], name=\"extras\"),\n",
    "         \"traj_lengths\": tf.placeholder(tf.int32, shape=[1], name=\"traj_lengths\"),\n",
    "         \"robot/car1_future_x\": tf.placeholder(tf.float32, shape=[None, ph, state_dim/2], name=\"robot/car1_future_x\"),\n",
    "         \"robot/car1_future_y\": tf.placeholder(tf.float32, shape=[None, ph, state_dim/2], name=\"robot/car1_future_y\"),\n",
    "         \"sample_ct\": tf.placeholder(tf.int32, shape=[1], name=\"sample_ct\")})\n",
    "    \n",
    "    nn.export_savedmodel(config[\"models_dir\"], serving_input_receiver_fn)"
   ]
  },
  {
   "cell_type": "code",
   "execution_count": null,
   "metadata": {
    "collapsed": true
   },
   "outputs": [],
   "source": []
  }
 ],
 "metadata": {
  "kernelspec": {
   "display_name": "Python 2 (Proactive)",
   "language": "python",
   "name": "proactive"
  },
  "language_info": {
   "codemirror_mode": {
    "name": "ipython",
    "version": 2
   },
   "file_extension": ".py",
   "mimetype": "text/x-python",
   "name": "python",
   "nbconvert_exporter": "python",
   "pygments_lexer": "ipython2",
   "version": "2.7.13"
  }
 },
 "nbformat": 4,
 "nbformat_minor": 2
}
