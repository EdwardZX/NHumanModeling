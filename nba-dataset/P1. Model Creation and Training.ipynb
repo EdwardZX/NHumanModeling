{
 "cells": [
  {
   "cell_type": "code",
   "execution_count": 2,
   "metadata": {},
   "outputs": [],
   "source": [
    "%load_ext memory_profiler"
   ]
  },
  {
   "cell_type": "code",
   "execution_count": 3,
   "metadata": {},
   "outputs": [
    {
     "name": "stdout",
     "output_type": "stream",
     "text": [
      "peak memory: 40.32 MiB, increment: 0.07 MiB\n"
     ]
    }
   ],
   "source": [
    "%memit"
   ]
  },
  {
   "cell_type": "code",
   "execution_count": 5,
   "metadata": {},
   "outputs": [
    {
     "name": "stdout",
     "output_type": "stream",
     "text": [
      "The autoreload extension is already loaded. To reload it, use:\n",
      "  %reload_ext autoreload\n",
      "env: CUDA_VISIBLE_DEVICES=1\n"
     ]
    },
    {
     "data": {
      "text/plain": [
       "{u'catkin_ws_dir': u'/Users/borisi/catkin_ws',\n",
       " u'data_dir': u'data',\n",
       " u'feature_extraction_dict': u'slim',\n",
       " u'julia_pkg_dir': u'/Users/borisi/.julia/v0.6',\n",
       " u'models_dir': u'models'}"
      ]
     },
     "execution_count": 5,
     "metadata": {},
     "output_type": "execute_result"
    }
   ],
   "source": [
    "%load_ext autoreload\n",
    "%autoreload 2\n",
    " \n",
    "%matplotlib inline\n",
    "# Set below to 0 or 1 for GPU\n",
    "%env CUDA_VISIBLE_DEVICES=1\n",
    "from __future__ import absolute_import, division, print_function\n",
    "import json\n",
    "import os\n",
    "if os.path.isfile(\"../code/config.json\"):\n",
    "    with open(\"../code/config.json\", \"r\") as f:\n",
    "        config = json.load(f)\n",
    "else:\n",
    "    print(\"Please run setup.py in this directory before running any .ipynb's.\")\n",
    "\n",
    "import matplotlib.pyplot as plt\n",
    "import pandas as pd\n",
    "import numpy as np\n",
    "from glob import glob\n",
    "import tensorflow as tf\n",
    "import time\n",
    "import shutil\n",
    "import cPickle as pickle\n",
    "from collections import OrderedDict, defaultdict\n",
    "\n",
    "import sys\n",
    "sys.path.append(\"../code\")\n",
    "from utils.bags import *\n",
    "from utils.learning import *\n",
    "from multimodal_generative_model import *\n",
    "from st_graph import *\n",
    "from data_utils import *\n",
    "from stg_node import *\n",
    "from experiment_details import NUM_DATAFILES, ROWS_TO_EXTRACT, EDGE_STATE_COMBINE_METHOD, EDGE_RADIUS\n",
    "\n",
    "config"
   ]
  },
  {
   "cell_type": "code",
   "execution_count": 6,
   "metadata": {},
   "outputs": [
    {
     "data": {
      "text/plain": [
       "u'models/GPU1_checkpoints'"
      ]
     },
     "execution_count": 6,
     "metadata": {},
     "output_type": "execute_result"
    }
   ],
   "source": [
    "cvd = %env CUDA_VISIBLE_DEVICES\n",
    "model_dir = os.path.join(config[\"models_dir\"], (\"GPU\" + cvd if cvd else \"CPU\") + \"_checkpoints\")\n",
    "# shutil.rmtree(model_dir, ignore_errors=True)\n",
    "\n",
    "sc = tf.ConfigProto(device_count={'GPU': 1}, allow_soft_placement=True, log_device_placement=False)\n",
    "rc = tf.estimator.RunConfig().replace(session_config=sc, model_dir=model_dir,\n",
    "                                      save_summary_steps=100, save_checkpoints_steps=5000,\n",
    "                                      keep_checkpoint_max=5000, tf_random_seed=None)\n",
    "rc.environment = None    # required due to a bug in tf.contrib.learn.Experiment.train_and_evaluate\n",
    "model_dir"
   ]
  },
  {
   "cell_type": "code",
   "execution_count": 7,
   "metadata": {
    "scrolled": true
   },
   "outputs": [
    {
     "data": {
      "text/plain": [
       "{'GMM_components': 16,\n",
       " 'K': 5,\n",
       " 'MLP_dropout_keep_prob': 0.9,\n",
       " 'MVG_latent_dim': 32,\n",
       " 'N': 2,\n",
       " 'alpha': 1,\n",
       " 'batch_size': 16,\n",
       " 'dec_GMM_proj_MLP_dims': None,\n",
       " 'dec_rnn_dim': [128],\n",
       " 'dec_sample_model_prob_crossover': 20000,\n",
       " 'dec_sample_model_prob_divisor': 6,\n",
       " 'dec_sample_model_prob_final': 0.0,\n",
       " 'dec_sample_model_prob_start': 0.0,\n",
       " 'enc_rnn_dim_edge': [8],\n",
       " 'enc_rnn_dim_edge_influence': [8],\n",
       " 'enc_rnn_dim_future': [32],\n",
       " 'enc_rnn_dim_history': [32],\n",
       " 'enc_rnn_dim_multiple_inputs': [8],\n",
       " 'fuzz_factor': 0.05,\n",
       " 'grad_clip': 1.0,\n",
       " 'k': 3,\n",
       " 'k_eval': 50,\n",
       " 'kl_crossover': 8000,\n",
       " 'kl_decay_rate': 0.99995,\n",
       " 'kl_exact': True,\n",
       " 'kl_min': 0.07,\n",
       " 'kl_sigmoid_divisor': 6,\n",
       " 'kl_weight': 1.0,\n",
       " 'kl_weight_start': 0.0001,\n",
       " 'latent_type': 'discrete',\n",
       " 'learning_decay_rate': 0.9999,\n",
       " 'learning_rate': 0.001,\n",
       " 'log_p_yt_xz_max': 50,\n",
       " 'log_sigma_max': 10,\n",
       " 'log_sigma_min': -10,\n",
       " 'min_learning_rate': 1e-05,\n",
       " 'minimum_history_length': 5,\n",
       " 'optimizer': tensorflow.python.training.adam.AdamOptimizer,\n",
       " 'optimizer_kwargs': {},\n",
       " 'p_z_x_MLP_dims': [16],\n",
       " 'prediction_horizon': 15,\n",
       " 'q_z_xy_MLP_dims': None,\n",
       " 'rnn_cell': tensorflow.contrib.rnn.python.ops.rnn_cell.LayerNormBasicLSTMCell,\n",
       " 'rnn_cell_kwargs': {'dropout_keep_prob': 0.75, 'layer_norm': False},\n",
       " 'rnn_io_dropout_keep_prob': 1.0,\n",
       " 'sample_model_during_dec': True,\n",
       " 'steps_per_log': 10,\n",
       " 'tau_decay_rate': 0.9999,\n",
       " 'tau_final': 0.001,\n",
       " 'tau_init': 2.0,\n",
       " 'use_iwae': False,\n",
       " 'use_z_logit_clipping': False,\n",
       " 'z_logit_clip_crossover': 8000,\n",
       " 'z_logit_clip_divisor': 6,\n",
       " 'z_logit_clip_final': 3.0,\n",
       " 'z_logit_clip_start': 0.05}"
      ]
     },
     "execution_count": 7,
     "metadata": {},
     "output_type": "execute_result"
    }
   ],
   "source": [
    "# Edit model hyperparameters if desired, e.g.:\n",
    "# hps.N = 2\n",
    "# hps.K = 5\n",
    "hps.values()"
   ]
  },
  {
   "cell_type": "code",
   "execution_count": 8,
   "metadata": {},
   "outputs": [
    {
     "name": "stdout",
     "output_type": "stream",
     "text": [
      "peak memory: 191.32 MiB, increment: 0.00 MiB\n"
     ]
    }
   ],
   "source": [
    "%memit"
   ]
  },
  {
   "cell_type": "markdown",
   "metadata": {},
   "source": [
    "# Data Loading"
   ]
  },
  {
   "cell_type": "code",
   "execution_count": 9,
   "metadata": {},
   "outputs": [],
   "source": [
    "NUM_DATAFILES = 2\n",
    "ROWS_TO_EXTRACT = 100\n",
    "\n",
    "robot_node = STGNode('Al Horford', 'HomeC')\n",
    "positions_map_path = \"data/positions_map.pkl\"\n",
    "pos_dict_path = \"data/pos_dict_%d_files_%s_rows.pkl\" % (NUM_DATAFILES, str(ROWS_TO_EXTRACT))\n",
    "\n",
    "if os.path.isfile(pos_dict_path):\n",
    "    with open(pos_dict_path, 'rb') as f:\n",
    "        pos_dict = pickle.load(f)\n",
    "else:\n",
    "    pos_dict = get_pos_dict(train_files, \n",
    "                            positions_map_path=positions_map_path, \n",
    "                            rows_to_extract=ROWS_TO_EXTRACT)\n",
    "    with open(pos_dict_path, 'wb') as f:\n",
    "        pickle.dump(pos_dict, f, protocol=pickle.HIGHEST_PROTOCOL)\n",
    "\n",
    "STG = SpatioTemporalGraphCVAE(pos_dict, robot_node, \n",
    "                              edge_radius=EDGE_RADIUS,\n",
    "                              edge_state_combine_method=EDGE_STATE_COMBINE_METHOD)\n",
    "\n",
    "train_data_dict_path = \"data/train_data_dict_%d_files_%s_rows.pkl\" % (NUM_DATAFILES, ROWS_TO_EXTRACT)\n",
    "if os.path.isfile(train_data_dict_path):\n",
    "    with open(train_data_dict_path, 'rb') as f:\n",
    "        train_data_dict = pickle.load(f)\n",
    "else:\n",
    "    train_data_dict = get_data_dict(train_files, \n",
    "                                    positions_map_path=positions_map_path, \n",
    "                                    rows_to_extract=ROWS_TO_EXTRACT)\n",
    "    with open(train_data_dict_path, 'wb') as f:\n",
    "        pickle.dump(train_data_dict, f, protocol=pickle.HIGHEST_PROTOCOL)\n",
    "\n",
    "hps.add_hparam(\"nodes_standardization\", train_data_dict[\"nodes_standardization\"])\n",
    "hps.add_hparam(\"extras_standardization\", {\"mean\": train_data_dict[\"extras_mean\"],\n",
    "                                          \"std\": train_data_dict[\"extras_std\"]})\n",
    "hps.add_hparam(\"labels_standardization\", train_data_dict[\"labels_standardization\"])\n",
    "hps.add_hparam(\"pred_indices\", train_data_dict[\"pred_indices\"])\n",
    "\n",
    "eval_data_dict_path = \"data/eval_data_dict_%d_files_%s_rows.pkl\" % (NUM_DATAFILES, str(ROWS_TO_EXTRACT))\n",
    "if os.path.isfile(eval_data_dict_path):\n",
    "    with open(eval_data_dict_path, 'rb') as f:\n",
    "        eval_data_dict = pickle.load(f)\n",
    "else:\n",
    "    eval_data_dict = get_data_dict(eval_files, positions_map_path=positions_map_path)\n",
    "    with open(eval_data_dict_path, 'wb') as f:\n",
    "        pickle.dump(eval_data_dict, f, protocol=pickle.HIGHEST_PROTOCOL)\n",
    "\n",
    "train_input_function = tf.estimator.inputs.numpy_input_fn(train_data_dict[\"input_dict\"],\n",
    "                                                          y = train_data_dict[\"labels\"],\n",
    "                                                          batch_size = hps.batch_size,\n",
    "                                                          num_epochs = None,\n",
    "                                                          shuffle = True)\n",
    "\n",
    "# Need all possible nodes to have been seen by the STG above, does \n",
    "# that mean we feed in the all_files pos_dict in order to create \n",
    "# the nodes ahead of time?\n",
    "token_eval_node = None\n",
    "token_eval_label_node = None\n",
    "for node in eval_data_dict[\"input_dict\"]:\n",
    "    if isinstance(node, STGNode):\n",
    "        token_eval_node = node\n",
    "        token_eval_label_node = convert_to_label_node(node)\n",
    "        break\n",
    "\n",
    "for node in train_data_dict[\"input_dict\"]:\n",
    "    if isinstance(node, STGNode):\n",
    "        if node not in eval_data_dict[\"input_dict\"]:\n",
    "            eval_data_dict[\"input_dict\"][node] = np.zeros_like(eval_data_dict[\"input_dict\"][token_eval_node])\n",
    "            eval_data_dict[\"labels\"][convert_to_label_node(node)] = np.zeros_like(eval_data_dict[\"labels\"][token_eval_label_node])\n",
    "\n",
    "eval_input_function = tf.estimator.inputs.numpy_input_fn(eval_data_dict[\"input_dict\"],\n",
    "                                                         y = eval_data_dict[\"labels\"],\n",
    "                                                         batch_size = 4,\n",
    "                                                         num_epochs = 1,\n",
    "                                                         shuffle = False)"
   ]
  },
  {
   "cell_type": "code",
   "execution_count": 10,
   "metadata": {},
   "outputs": [
    {
     "data": {
      "text/plain": [
       "(87, 981, 6)"
      ]
     },
     "execution_count": 10,
     "metadata": {},
     "output_type": "execute_result"
    }
   ],
   "source": [
    "train_data_dict[\"input_dict\"][robot_node].shape"
   ]
  },
  {
   "cell_type": "code",
   "execution_count": 12,
   "metadata": {},
   "outputs": [
    {
     "name": "stdout",
     "output_type": "stream",
     "text": [
      "30\n",
      "26\n"
     ]
    }
   ],
   "source": [
    "print(len(eval_data_dict['input_dict']))\n",
    "print(len(eval_data_dict['labels']))"
   ]
  },
  {
   "cell_type": "code",
   "execution_count": 13,
   "metadata": {},
   "outputs": [
    {
     "data": {
      "text/plain": [
       "{HomeC/AlHorford: defaultdict(set,\n",
       "             {'AwayC-HomeC': [AwayC/DeMarcusCousins, AwayC/KostaKoufos],\n",
       "              'AwayPF-HomeC': [AwayPF/QuincyAcy],\n",
       "              'AwayPG-HomeC': [AwayPG/RajonRondo],\n",
       "              'AwaySF-HomeC': [AwaySF/RudyGay, AwaySF/OmriCasspi],\n",
       "              'AwaySG-HomeC': [AwaySG/BenMcLemore],\n",
       "              'HomeC-HomeC': [HomeC/TiagoSplitter],\n",
       "              'HomeC-HomePG': [HomePG/DennisSchroder],\n",
       "              'HomeC-HomeSG': [HomeSG/KyleKorver, HomeSG/JustinHoliday]}),\n",
       " AwayC/DeMarcusCousins: defaultdict(set,\n",
       "             {'AwayC-AwayPF': [AwayPF/QuincyAcy],\n",
       "              'AwayC-AwayPG': [AwayPG/RajonRondo],\n",
       "              'AwayC-AwaySF': [AwaySF/RudyGay, AwaySF/OmriCasspi],\n",
       "              'AwayC-AwaySG': [AwaySG/BenMcLemore],\n",
       "              'AwayC-HomeC': [HomeC/AlHorford, HomeC/TiagoSplitter],\n",
       "              'AwayC-HomePF': [HomePF/PaulMillsap],\n",
       "              'AwayC-HomePG': [HomePG/ShelvinMack, HomePG/DennisSchroder],\n",
       "              'AwayC-HomeSF': [HomeSF/ThaboSefolosha],\n",
       "              'AwayC-HomeSG': [HomeSG/KyleKorver, HomeSG/JustinHoliday]}),\n",
       " AwaySF/RudyGay: defaultdict(set,\n",
       "             {'AwayC-AwaySF': [AwayC/DeMarcusCousins],\n",
       "              'AwayPF-AwaySF': [AwayPF/QuincyAcy],\n",
       "              'AwayPG-AwaySF': [AwayPG/RajonRondo],\n",
       "              'AwaySF-AwaySG': [AwaySG/BenMcLemore],\n",
       "              'AwaySF-HomeC': [HomeC/AlHorford, HomeC/TiagoSplitter],\n",
       "              'AwaySF-HomePF': [HomePF/PaulMillsap],\n",
       "              'AwaySF-HomePG': [HomePG/DennisSchroder],\n",
       "              'AwaySF-HomeSG': [HomeSG/LamarPatterson,\n",
       "               HomeSG/KyleKorver,\n",
       "               HomeSG/JustinHoliday]}),\n",
       " HomeSG/KyleKorver: defaultdict(set,\n",
       "             {'AwayC-HomeSG': [AwayC/DeMarcusCousins],\n",
       "              'AwayPF-HomeSG': [AwayPF/QuincyAcy],\n",
       "              'AwaySF-HomeSG': [AwaySF/RudyGay],\n",
       "              'AwaySG-HomeSG': [AwaySG/BenMcLemore],\n",
       "              'HomeC-HomeSG': [HomeC/AlHorford],\n",
       "              'HomePF-HomeSG': [HomePF/PaulMillsap],\n",
       "              'HomeSG-HomeSG': [HomeSG/JustinHoliday]}),\n",
       " HomeSG/JustinHoliday: defaultdict(set,\n",
       "             {'AwayC-HomeSG': [AwayC/DeMarcusCousins],\n",
       "              'AwayPF-HomeSG': [AwayPF/QuincyAcy],\n",
       "              'AwayPG-HomeSG': [AwayPG/RajonRondo],\n",
       "              'AwaySF-HomeSG': [AwaySF/RudyGay],\n",
       "              'AwaySG-HomeSG': [AwaySG/BenMcLemore],\n",
       "              'HomeC-HomeSG': [HomeC/AlHorford, HomeC/TiagoSplitter],\n",
       "              'HomeSG-HomeSG': [HomeSG/KyleKorver]}),\n",
       " HomePF/PaulMillsap: defaultdict(set,\n",
       "             {'AwayC-HomePF': [AwayC/DeMarcusCousins,\n",
       "               AwayC/WillieCauley-Stein],\n",
       "              'AwayPF-HomePF': [AwayPF/QuincyAcy],\n",
       "              'AwayPG-HomePF': [AwayPG/RajonRondo],\n",
       "              'AwaySF-HomePF': [AwaySF/RudyGay, AwaySF/OmriCasspi],\n",
       "              'AwaySG-HomePF': [AwaySG/BenMcLemore],\n",
       "              'HomePF-HomePG': [HomePG/DennisSchroder],\n",
       "              'HomePF-HomeSF': [HomeSF/ThaboSefolosha],\n",
       "              'HomePF-HomeSG': [HomeSG/LamarPatterson, HomeSG/KyleKorver]}),\n",
       " AwaySG/BenMcLemore: defaultdict(set,\n",
       "             {'AwayC-AwaySG': [AwayC/DeMarcusCousins],\n",
       "              'AwayPF-AwaySG': [AwayPF/QuincyAcy],\n",
       "              'AwayPG-AwaySG': [AwayPG/RajonRondo],\n",
       "              'AwaySF-AwaySG': [AwaySF/RudyGay],\n",
       "              'AwaySG-HomeC': [HomeC/AlHorford, HomeC/TiagoSplitter],\n",
       "              'AwaySG-HomePF': [HomePF/PaulMillsap],\n",
       "              'AwaySG-HomePG': [HomePG/DennisSchroder],\n",
       "              'AwaySG-HomeSG': [HomeSG/LamarPatterson,\n",
       "               HomeSG/KyleKorver,\n",
       "               HomeSG/JustinHoliday]}),\n",
       " AwayPF/QuincyAcy: defaultdict(set,\n",
       "             {'AwayC-AwayPF': [AwayC/DeMarcusCousins],\n",
       "              'AwayPF-AwayPG': [AwayPG/RajonRondo],\n",
       "              'AwayPF-AwaySF': [AwaySF/RudyGay],\n",
       "              'AwayPF-AwaySG': [AwaySG/BenMcLemore],\n",
       "              'AwayPF-HomeC': [HomeC/AlHorford, HomeC/TiagoSplitter],\n",
       "              'AwayPF-HomePF': [HomePF/PaulMillsap],\n",
       "              'AwayPF-HomePG': [HomePG/DennisSchroder],\n",
       "              'AwayPF-HomeSG': [HomeSG/LamarPatterson,\n",
       "               HomeSG/KyleKorver,\n",
       "               HomeSG/JustinHoliday]}),\n",
       " AwayPG/RajonRondo: defaultdict(set,\n",
       "             {'AwayC-AwayPG': [AwayC/DeMarcusCousins,\n",
       "               AwayC/WillieCauley-Stein],\n",
       "              'AwayPF-AwayPG': [AwayPF/QuincyAcy],\n",
       "              'AwayPG-AwaySF': [AwaySF/RudyGay],\n",
       "              'AwayPG-AwaySG': [AwaySG/BenMcLemore, AwaySG/MarcoBelinelli],\n",
       "              'AwayPG-HomeC': [HomeC/AlHorford],\n",
       "              'AwayPG-HomePF': [HomePF/PaulMillsap],\n",
       "              'AwayPG-HomePG': [HomePG/ShelvinMack, HomePG/DennisSchroder],\n",
       "              'AwayPG-HomeSG': [HomeSG/JustinHoliday]}),\n",
       " HomePG/DennisSchroder: defaultdict(set,\n",
       "             {'AwayC-HomePG': [AwayC/DeMarcusCousins],\n",
       "              'AwayPF-HomePG': [AwayPF/QuincyAcy],\n",
       "              'AwayPG-HomePG': [AwayPG/RajonRondo],\n",
       "              'AwaySF-HomePG': [AwaySF/RudyGay],\n",
       "              'AwaySG-HomePG': [AwaySG/BenMcLemore],\n",
       "              'HomeC-HomePG': [HomeC/AlHorford],\n",
       "              'HomePF-HomePG': [HomePF/PaulMillsap]}),\n",
       " HomeSF/ThaboSefolosha: defaultdict(set,\n",
       "             {'AwayC-HomeSF': [AwayC/DeMarcusCousins,\n",
       "               AwayC/KostaKoufos,\n",
       "               AwayC/WillieCauley-Stein],\n",
       "              'AwaySF-HomeSF': [AwaySF/OmriCasspi],\n",
       "              'AwaySG-HomeSF': [AwaySG/MarcoBelinelli],\n",
       "              'HomeC-HomeSF': [HomeC/TiagoSplitter],\n",
       "              'HomePF-HomeSF': [HomePF/PaulMillsap],\n",
       "              'HomePG-HomeSF': [HomePG/ShelvinMack],\n",
       "              'HomeSF-HomeSG': [HomeSG/LamarPatterson]}),\n",
       " HomePG/ShelvinMack: defaultdict(set,\n",
       "             {'AwayC-HomePG': [AwayC/DeMarcusCousins,\n",
       "               AwayC/WillieCauley-Stein],\n",
       "              'AwayPG-HomePG': [AwayPG/DarrenCollison, AwayPG/RajonRondo],\n",
       "              'AwaySG-HomePG': [AwaySG/MarcoBelinelli],\n",
       "              'HomeC-HomePG': [HomeC/TiagoSplitter],\n",
       "              'HomePG-HomeSF': [HomeSF/ThaboSefolosha]}),\n",
       " HomeC/TiagoSplitter: defaultdict(set,\n",
       "             {'AwayC-HomeC': [AwayC/DeMarcusCousins,\n",
       "               AwayC/KostaKoufos,\n",
       "               AwayC/WillieCauley-Stein],\n",
       "              'AwayPF-HomeC': [AwayPF/QuincyAcy],\n",
       "              'AwayPG-HomeC': [AwayPG/DarrenCollison],\n",
       "              'AwaySF-HomeC': [AwaySF/RudyGay, AwaySF/OmriCasspi],\n",
       "              'AwaySG-HomeC': [AwaySG/BenMcLemore, AwaySG/MarcoBelinelli],\n",
       "              'HomeC-HomeC': [HomeC/AlHorford],\n",
       "              'HomeC-HomePG': [HomePG/ShelvinMack],\n",
       "              'HomeC-HomeSF': [HomeSF/ThaboSefolosha],\n",
       "              'HomeC-HomeSG': [HomeSG/LamarPatterson, HomeSG/JustinHoliday]}),\n",
       " HomeSG/LamarPatterson: defaultdict(set,\n",
       "             {'AwayC-HomeSG': [AwayC/WillieCauley-Stein],\n",
       "              'AwayPF-HomeSG': [AwayPF/QuincyAcy],\n",
       "              'AwaySF-HomeSG': [AwaySF/RudyGay, AwaySF/OmriCasspi],\n",
       "              'AwaySG-HomeSG': [AwaySG/BenMcLemore, AwaySG/MarcoBelinelli],\n",
       "              'HomeC-HomeSG': [HomeC/TiagoSplitter],\n",
       "              'HomePF-HomeSG': [HomePF/PaulMillsap],\n",
       "              'HomeSF-HomeSG': [HomeSF/ThaboSefolosha]}),\n",
       " AwayC/WillieCauley-Stein: defaultdict(set,\n",
       "             {'AwayC-AwayPG': [AwayPG/RajonRondo],\n",
       "              'AwayC-AwaySF': [AwaySF/OmriCasspi],\n",
       "              'AwayC-HomeC': [HomeC/TiagoSplitter],\n",
       "              'AwayC-HomePF': [HomePF/PaulMillsap],\n",
       "              'AwayC-HomePG': [HomePG/ShelvinMack],\n",
       "              'AwayC-HomeSF': [HomeSF/ThaboSefolosha],\n",
       "              'AwayC-HomeSG': [HomeSG/LamarPatterson]}),\n",
       " AwaySG/MarcoBelinelli: defaultdict(set,\n",
       "             {'AwayPG-AwaySG': [AwayPG/RajonRondo],\n",
       "              'AwaySF-AwaySG': [AwaySF/OmriCasspi],\n",
       "              'AwaySG-HomeC': [HomeC/TiagoSplitter],\n",
       "              'AwaySG-HomePG': [HomePG/ShelvinMack],\n",
       "              'AwaySG-HomeSF': [HomeSF/ThaboSefolosha],\n",
       "              'AwaySG-HomeSG': [HomeSG/LamarPatterson]}),\n",
       " AwaySF/OmriCasspi: defaultdict(set,\n",
       "             {'AwayC-AwaySF': [AwayC/DeMarcusCousins,\n",
       "               AwayC/WillieCauley-Stein],\n",
       "              'AwaySF-AwaySG': [AwaySG/MarcoBelinelli],\n",
       "              'AwaySF-HomeC': [HomeC/AlHorford, HomeC/TiagoSplitter],\n",
       "              'AwaySF-HomePF': [HomePF/PaulMillsap],\n",
       "              'AwaySF-HomeSF': [HomeSF/ThaboSefolosha],\n",
       "              'AwaySF-HomeSG': [HomeSG/LamarPatterson]}),\n",
       " AwayPG/DarrenCollison: defaultdict(set,\n",
       "             {'AwayPG-HomeC': [HomeC/TiagoSplitter],\n",
       "              'AwayPG-HomePG': [HomePG/ShelvinMack]}),\n",
       " AwayC/KostaKoufos: defaultdict(set,\n",
       "             {'AwayC-HomeC': [HomeC/AlHorford, HomeC/TiagoSplitter],\n",
       "              'AwayC-HomeSF': [HomeSF/ThaboSefolosha]})}"
      ]
     },
     "execution_count": 13,
     "metadata": {},
     "output_type": "execute_result"
    }
   ],
   "source": [
    "STG.node_edges_and_neighbors"
   ]
  },
  {
   "cell_type": "code",
   "execution_count": 14,
   "metadata": {},
   "outputs": [
    {
     "name": "stdout",
     "output_type": "stream",
     "text": [
      "peak memory: 356.74 MiB, increment: 0.00 MiB\n"
     ]
    }
   ],
   "source": [
    "%memit"
   ]
  },
  {
   "cell_type": "markdown",
   "metadata": {},
   "source": [
    "# Training"
   ]
  },
  {
   "cell_type": "code",
   "execution_count": 14,
   "metadata": {},
   "outputs": [],
   "source": [
    "# JUST RUN 'cd memory_usage_info; python training_memory_usage.py'"
   ]
  },
  {
   "cell_type": "code",
   "execution_count": null,
   "metadata": {},
   "outputs": [],
   "source": []
  }
 ],
 "metadata": {
  "kernelspec": {
   "display_name": "Python 2 (Proactive)",
   "language": "python",
   "name": "proactive"
  },
  "language_info": {
   "codemirror_mode": {
    "name": "ipython",
    "version": 2
   },
   "file_extension": ".py",
   "mimetype": "text/x-python",
   "name": "python",
   "nbconvert_exporter": "python",
   "pygments_lexer": "ipython2",
   "version": "2.7.13"
  }
 },
 "nbformat": 4,
 "nbformat_minor": 2
}
